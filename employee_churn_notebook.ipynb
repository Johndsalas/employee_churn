{
 "cells": [
  {
   "cell_type": "markdown",
   "metadata": {},
   "source": [
    "# Imports"
   ]
  },
  {
   "cell_type": "code",
   "execution_count": 1,
   "metadata": {},
   "outputs": [],
   "source": [
    "import pandas as pd\n",
    "import seaborn as sns\n",
    "import matplotlib.pyplot as plt\n",
    "import numpy as np\n",
    "import scipy.stats as stats\n",
    "from sklearn.metrics import mean_squared_error\n",
    "from math import sqrt\n",
    "\n",
    "import warnings\n",
    "warnings.filterwarnings(\"ignore\")"
   ]
  },
  {
   "cell_type": "markdown",
   "metadata": {},
   "source": [
    "# Wrangle\n",
    "\n",
    "Title: IBM HR Analytics Employees Attrition & Performance\n",
    "\n",
    "Acquired from Kaggle\n",
    "\n",
    "Data is Synthetic and was Constructed by Data Scientists at IBM"
   ]
  },
  {
   "cell_type": "code",
   "execution_count": 2,
   "metadata": {
    "scrolled": true
   },
   "outputs": [
    {
     "data": {
      "text/html": [
       "<div>\n",
       "<style scoped>\n",
       "    .dataframe tbody tr th:only-of-type {\n",
       "        vertical-align: middle;\n",
       "    }\n",
       "\n",
       "    .dataframe tbody tr th {\n",
       "        vertical-align: top;\n",
       "    }\n",
       "\n",
       "    .dataframe thead th {\n",
       "        text-align: right;\n",
       "    }\n",
       "</style>\n",
       "<table border=\"1\" class=\"dataframe\">\n",
       "  <thead>\n",
       "    <tr style=\"text-align: right;\">\n",
       "      <th></th>\n",
       "      <th>Age</th>\n",
       "      <th>Attrition</th>\n",
       "      <th>BusinessTravel</th>\n",
       "      <th>DailyRate</th>\n",
       "      <th>Department</th>\n",
       "      <th>DistanceFromHome</th>\n",
       "      <th>Education</th>\n",
       "      <th>EducationField</th>\n",
       "      <th>EmployeeCount</th>\n",
       "      <th>EmployeeNumber</th>\n",
       "      <th>...</th>\n",
       "      <th>RelationshipSatisfaction</th>\n",
       "      <th>StandardHours</th>\n",
       "      <th>StockOptionLevel</th>\n",
       "      <th>TotalWorkingYears</th>\n",
       "      <th>TrainingTimesLastYear</th>\n",
       "      <th>WorkLifeBalance</th>\n",
       "      <th>YearsAtCompany</th>\n",
       "      <th>YearsInCurrentRole</th>\n",
       "      <th>YearsSinceLastPromotion</th>\n",
       "      <th>YearsWithCurrManager</th>\n",
       "    </tr>\n",
       "  </thead>\n",
       "  <tbody>\n",
       "    <tr>\n",
       "      <td>0</td>\n",
       "      <td>41</td>\n",
       "      <td>Yes</td>\n",
       "      <td>Travel_Rarely</td>\n",
       "      <td>1102</td>\n",
       "      <td>Sales</td>\n",
       "      <td>1</td>\n",
       "      <td>2</td>\n",
       "      <td>Life Sciences</td>\n",
       "      <td>1</td>\n",
       "      <td>1</td>\n",
       "      <td>...</td>\n",
       "      <td>1</td>\n",
       "      <td>80</td>\n",
       "      <td>0</td>\n",
       "      <td>8</td>\n",
       "      <td>0</td>\n",
       "      <td>1</td>\n",
       "      <td>6</td>\n",
       "      <td>4</td>\n",
       "      <td>0</td>\n",
       "      <td>5</td>\n",
       "    </tr>\n",
       "    <tr>\n",
       "      <td>1</td>\n",
       "      <td>49</td>\n",
       "      <td>No</td>\n",
       "      <td>Travel_Frequently</td>\n",
       "      <td>279</td>\n",
       "      <td>Research &amp; Development</td>\n",
       "      <td>8</td>\n",
       "      <td>1</td>\n",
       "      <td>Life Sciences</td>\n",
       "      <td>1</td>\n",
       "      <td>2</td>\n",
       "      <td>...</td>\n",
       "      <td>4</td>\n",
       "      <td>80</td>\n",
       "      <td>1</td>\n",
       "      <td>10</td>\n",
       "      <td>3</td>\n",
       "      <td>3</td>\n",
       "      <td>10</td>\n",
       "      <td>7</td>\n",
       "      <td>1</td>\n",
       "      <td>7</td>\n",
       "    </tr>\n",
       "    <tr>\n",
       "      <td>2</td>\n",
       "      <td>37</td>\n",
       "      <td>Yes</td>\n",
       "      <td>Travel_Rarely</td>\n",
       "      <td>1373</td>\n",
       "      <td>Research &amp; Development</td>\n",
       "      <td>2</td>\n",
       "      <td>2</td>\n",
       "      <td>Other</td>\n",
       "      <td>1</td>\n",
       "      <td>4</td>\n",
       "      <td>...</td>\n",
       "      <td>2</td>\n",
       "      <td>80</td>\n",
       "      <td>0</td>\n",
       "      <td>7</td>\n",
       "      <td>3</td>\n",
       "      <td>3</td>\n",
       "      <td>0</td>\n",
       "      <td>0</td>\n",
       "      <td>0</td>\n",
       "      <td>0</td>\n",
       "    </tr>\n",
       "    <tr>\n",
       "      <td>3</td>\n",
       "      <td>33</td>\n",
       "      <td>No</td>\n",
       "      <td>Travel_Frequently</td>\n",
       "      <td>1392</td>\n",
       "      <td>Research &amp; Development</td>\n",
       "      <td>3</td>\n",
       "      <td>4</td>\n",
       "      <td>Life Sciences</td>\n",
       "      <td>1</td>\n",
       "      <td>5</td>\n",
       "      <td>...</td>\n",
       "      <td>3</td>\n",
       "      <td>80</td>\n",
       "      <td>0</td>\n",
       "      <td>8</td>\n",
       "      <td>3</td>\n",
       "      <td>3</td>\n",
       "      <td>8</td>\n",
       "      <td>7</td>\n",
       "      <td>3</td>\n",
       "      <td>0</td>\n",
       "    </tr>\n",
       "    <tr>\n",
       "      <td>4</td>\n",
       "      <td>27</td>\n",
       "      <td>No</td>\n",
       "      <td>Travel_Rarely</td>\n",
       "      <td>591</td>\n",
       "      <td>Research &amp; Development</td>\n",
       "      <td>2</td>\n",
       "      <td>1</td>\n",
       "      <td>Medical</td>\n",
       "      <td>1</td>\n",
       "      <td>7</td>\n",
       "      <td>...</td>\n",
       "      <td>4</td>\n",
       "      <td>80</td>\n",
       "      <td>1</td>\n",
       "      <td>6</td>\n",
       "      <td>3</td>\n",
       "      <td>3</td>\n",
       "      <td>2</td>\n",
       "      <td>2</td>\n",
       "      <td>2</td>\n",
       "      <td>2</td>\n",
       "    </tr>\n",
       "  </tbody>\n",
       "</table>\n",
       "<p>5 rows × 35 columns</p>\n",
       "</div>"
      ],
      "text/plain": [
       "   Age Attrition     BusinessTravel  DailyRate              Department  \\\n",
       "0   41       Yes      Travel_Rarely       1102                   Sales   \n",
       "1   49        No  Travel_Frequently        279  Research & Development   \n",
       "2   37       Yes      Travel_Rarely       1373  Research & Development   \n",
       "3   33        No  Travel_Frequently       1392  Research & Development   \n",
       "4   27        No      Travel_Rarely        591  Research & Development   \n",
       "\n",
       "   DistanceFromHome  Education EducationField  EmployeeCount  EmployeeNumber  \\\n",
       "0                 1          2  Life Sciences              1               1   \n",
       "1                 8          1  Life Sciences              1               2   \n",
       "2                 2          2          Other              1               4   \n",
       "3                 3          4  Life Sciences              1               5   \n",
       "4                 2          1        Medical              1               7   \n",
       "\n",
       "   ...  RelationshipSatisfaction StandardHours  StockOptionLevel  \\\n",
       "0  ...                         1            80                 0   \n",
       "1  ...                         4            80                 1   \n",
       "2  ...                         2            80                 0   \n",
       "3  ...                         3            80                 0   \n",
       "4  ...                         4            80                 1   \n",
       "\n",
       "   TotalWorkingYears  TrainingTimesLastYear WorkLifeBalance  YearsAtCompany  \\\n",
       "0                  8                      0               1               6   \n",
       "1                 10                      3               3              10   \n",
       "2                  7                      3               3               0   \n",
       "3                  8                      3               3               8   \n",
       "4                  6                      3               3               2   \n",
       "\n",
       "  YearsInCurrentRole  YearsSinceLastPromotion  YearsWithCurrManager  \n",
       "0                  4                        0                     5  \n",
       "1                  7                        1                     7  \n",
       "2                  0                        0                     0  \n",
       "3                  7                        3                     0  \n",
       "4                  2                        2                     2  \n",
       "\n",
       "[5 rows x 35 columns]"
      ]
     },
     "execution_count": 2,
     "metadata": {},
     "output_type": "execute_result"
    }
   ],
   "source": [
    "df = pd.read_csv('WA_Fn-UseC_-HR-Employee-Attrition.csv')\n",
    "df.head()"
   ]
  },
  {
   "cell_type": "markdown",
   "metadata": {},
   "source": [
    "# Problem Statement\n",
    "\n",
    "* A company has developed a new attrition prevention initiative in an attempt to save money by eliminating or reducing the cost of replacing employees. \n",
    "\n",
    "* The cost of implementing the initiative is 4K dollars per employee.\n",
    "\n",
    "* The company will save 15K dollars for each employee it prevents from attriting.\n",
    "\n",
    "* If the company were to implement this initiative for every employee in the training data set it would save about 3M. Assuming the initiative was 100 percent successful at preventing attrition.\n",
    "\n",
    "* They would also spend about 5M implementing the initiative.\n",
    "\n",
    "* The result is a net loss of about 2M dollars.\n",
    "\n",
    "* This suggests that a companywide implementation of this initiative would not profitable.\n",
    "\n",
    "* How can this company implement the new attrition initiative in a way that is cost effective?"
   ]
  },
  {
   "cell_type": "markdown",
   "metadata": {},
   "source": [
    "* The cost to replace an employee was estimated using 20% the median annual employee salary from the column 'MonthlyIncome,' and is based on the findings of “There Are Significant Business Costs to Replacing Employees”, published by the Center for American Progress\n",
    "* The cost of implementation is a construct of this scenario and represents an estimate of what a company might be willing to spend to prevent attrition in light of the money it will save if its efforts are successful."
   ]
  },
  {
   "cell_type": "markdown",
   "metadata": {},
   "source": [
    "# Answer\n",
    "\n",
    "* Build a model to predict attrition. \n",
    "* Use those predictions to decide which employees to include in the initiative.\n",
    "* Employees who are not going to attrit will be not be included in the initiative and will not contribute to its cost. \n",
    "* employees who are going to attrite will be included in the initiative which will cost the company about 4K dollars and (if the initiative is successful) save the company about 15K dollars, for a net gain of about 11K dollars."
   ]
  },
  {
   "cell_type": "markdown",
   "metadata": {},
   "source": [
    "# Goal\n",
    "\n",
    "* Build a model, using DataRobot, to predict attrition in company employees\n",
    "\n",
    "* Models will be evaluated using the max return on investment (ROI) that results from their predictions \n",
    "\n",
    "* A model will be considered successful if its predictions result in a positive maximum ROI for the company on holdout data\n"
   ]
  },
  {
   "cell_type": "markdown",
   "metadata": {},
   "source": [
    "# Calculating Max ROI\n",
    "\n",
    "* Assign a value to each prediction result (TP, TN, FN, FP)\n",
    "* Use model to make predictions\n",
    "* Multiply the value of each prediction result by the number of times that prediction result occurred\n",
    "* Add those values together"
   ]
  },
  {
   "cell_type": "markdown",
   "metadata": {},
   "source": [
    "# Prediction Result Values\n",
    "\n",
    "##### True Positive\n",
    "* Employee would have attrit and the model prediction is correct\n",
    "* Employee is included in the initiative (-4k) and is presumed not to attrite as a result (+15K)\n",
    "* Net Value: +11K\n",
    "\n",
    "##### True Negative\n",
    "* Employee would not have attrit and the model prediction is correct\n",
    "* Employee is excluded from the initiative\n",
    "* Net Value: 0\n",
    "\n",
    "##### False Positive\n",
    "* Employee would not have attrit and the model prediction is not correct\n",
    "* Employee is included in the initiative (-4k) but no value is gained because the employee would not have attrite in the first place\n",
    "* Net Value: -4K\n",
    "\n",
    "##### False Negative\n",
    "* Employee would have attrit and the model prediction is not correct\n",
    "* Employee is not included in the initiative and attrits. The company must pay the cost or replacing that employee (-15K)\n",
    "* Net Value: -15K"
   ]
  },
  {
   "cell_type": "markdown",
   "metadata": {},
   "source": [
    "# Prepare\n",
    "* Dropped non-informative columns\n",
    "* Changed ‘survey-like’ features from numeric to categorical variables\n",
    "* Removed outliers\n"
   ]
  },
  {
   "cell_type": "code",
   "execution_count": 37,
   "metadata": {},
   "outputs": [
    {
     "data": {
      "text/plain": [
       "(1451, 31)"
      ]
     },
     "execution_count": 37,
     "metadata": {},
     "output_type": "execute_result"
    }
   ],
   "source": [
    "df.shape"
   ]
  },
  {
   "cell_type": "code",
   "execution_count": 38,
   "metadata": {},
   "outputs": [
    {
     "data": {
      "text/plain": [
       "No     1218\n",
       "Yes     233\n",
       "Name: Attrition, dtype: int64"
      ]
     },
     "execution_count": 38,
     "metadata": {},
     "output_type": "execute_result"
    }
   ],
   "source": [
    "df.Attrition.value_counts()"
   ]
  },
  {
   "cell_type": "code",
   "execution_count": 39,
   "metadata": {},
   "outputs": [
    {
     "name": "stdout",
     "output_type": "stream",
     "text": [
      "Age\n",
      "35    78\n",
      "34    77\n",
      "31    69\n",
      "36    69\n",
      "29    68\n",
      "32    61\n",
      "30    60\n",
      "33    58\n",
      "38    58\n",
      "40    57\n",
      "37    50\n",
      "27    48\n",
      "28    48\n",
      "42    46\n",
      "39    42\n",
      "45    41\n",
      "41    40\n",
      "26    39\n",
      "46    33\n",
      "44    33\n",
      "43    32\n",
      "24    26\n",
      "50    26\n",
      "25    26\n",
      "47    24\n",
      "49    23\n",
      "48    19\n",
      "55    19\n",
      "53    18\n",
      "54    18\n",
      "51    17\n",
      "22    16\n",
      "23    14\n",
      "52    14\n",
      "56    14\n",
      "21    13\n",
      "58    11\n",
      "20    11\n",
      "59    10\n",
      "19     9\n",
      "18     8\n",
      "57     4\n",
      "60     4\n",
      "Name: Age, dtype: int64\n",
      "\n",
      "Attrition\n",
      "No     1218\n",
      "Yes     233\n",
      "Name: Attrition, dtype: int64\n",
      "\n",
      "BusinessTravel\n",
      "Travel_Rarely        1031\n",
      "Travel_Frequently     273\n",
      "Non-Travel            147\n",
      "Name: BusinessTravel, dtype: int64\n",
      "\n",
      "DailyRate\n",
      "691     6\n",
      "1329    5\n",
      "329     5\n",
      "408     5\n",
      "1082    5\n",
      "       ..\n",
      "898     1\n",
      "897     1\n",
      "891     1\n",
      "889     1\n",
      "102     1\n",
      "Name: DailyRate, Length: 881, dtype: int64\n",
      "\n",
      "Department\n",
      "Research & Development    950\n",
      "Sales                     440\n",
      "Human Resources            61\n",
      "Name: Department, dtype: int64\n",
      "\n",
      "DistanceFromHome\n",
      "1     206\n",
      "2     206\n",
      "10     85\n",
      "9      84\n",
      "7      83\n",
      "3      82\n",
      "8      79\n",
      "4      64\n",
      "5      64\n",
      "6      59\n",
      "16     32\n",
      "11     29\n",
      "24     28\n",
      "29     27\n",
      "23     26\n",
      "15     26\n",
      "18     25\n",
      "25     25\n",
      "20     24\n",
      "26     24\n",
      "28     23\n",
      "19     22\n",
      "14     21\n",
      "12     20\n",
      "17     20\n",
      "13     19\n",
      "21     18\n",
      "22     18\n",
      "27     12\n",
      "Name: DistanceFromHome, dtype: int64\n",
      "\n",
      "Education\n",
      "bachelors_degree    567\n",
      "masters_degree      390\n",
      "some_college        282\n",
      "no_college          168\n",
      "Doctorate            44\n",
      "Name: Education, dtype: int64\n",
      "\n",
      "EducationField\n",
      "Life Sciences       598\n",
      "Medical             457\n",
      "Marketing           156\n",
      "Technical Degree    131\n",
      "Other                82\n",
      "Human Resources      27\n",
      "Name: EducationField, dtype: int64\n",
      "\n",
      "EnvironmentSatisfaction\n",
      "high         447\n",
      "very_high    439\n",
      "meduim       286\n",
      "low          279\n",
      "Name: EnvironmentSatisfaction, dtype: int64\n",
      "\n",
      "Gender\n",
      "Male      867\n",
      "Female    584\n",
      "Name: Gender, dtype: int64\n",
      "\n",
      "HourlyRate\n",
      "66    29\n",
      "42    28\n",
      "48    28\n",
      "84    27\n",
      "98    27\n",
      "      ..\n",
      "68    14\n",
      "53    14\n",
      "31    13\n",
      "38    13\n",
      "34    12\n",
      "Name: HourlyRate, Length: 71, dtype: int64\n",
      "\n",
      "JobInvolvement\n",
      "high         858\n",
      "meduim       368\n",
      "very_high    144\n",
      "low           81\n",
      "Name: JobInvolvement, dtype: int64\n",
      "\n",
      "JobLevel\n",
      "one      543\n",
      "two      534\n",
      "three    216\n",
      "four      99\n",
      "five      59\n",
      "Name: JobLevel, dtype: int64\n",
      "\n",
      "JobRole\n",
      "Sales Executive              325\n",
      "Research Scientist           292\n",
      "Laboratory Technician        259\n",
      "Manufacturing Director       144\n",
      "Healthcare Representative    128\n",
      "Manager                       91\n",
      "Sales Representative          83\n",
      "Research Director             77\n",
      "Human Resources               52\n",
      "Name: JobRole, dtype: int64\n",
      "\n",
      "JobSatisfaction\n",
      "very_high    454\n",
      "high         437\n",
      "low          285\n",
      "meduim       275\n",
      "Name: JobSatisfaction, dtype: int64\n",
      "\n",
      "MaritalStatus\n",
      "Married     664\n",
      "Single      465\n",
      "Divorced    322\n",
      "Name: MaritalStatus, dtype: int64\n",
      "\n",
      "MonthlyIncome\n",
      "2342     4\n",
      "5562     3\n",
      "2741     3\n",
      "2451     3\n",
      "2610     3\n",
      "        ..\n",
      "8564     1\n",
      "7428     1\n",
      "5381     1\n",
      "4035     1\n",
      "14336    1\n",
      "Name: MonthlyIncome, Length: 1330, dtype: int64\n",
      "\n",
      "MonthlyRate\n",
      "9150     3\n",
      "4223     3\n",
      "11162    2\n",
      "4658     2\n",
      "21534    2\n",
      "        ..\n",
      "23866    1\n",
      "6992     1\n",
      "20520    1\n",
      "21821    1\n",
      "8192     1\n",
      "Name: MonthlyRate, Length: 1409, dtype: int64\n",
      "\n",
      "NumCompaniesWorked\n",
      "1    510\n",
      "0    193\n",
      "3    159\n",
      "2    145\n",
      "4    138\n",
      "7     73\n",
      "6     70\n",
      "5     62\n",
      "9     52\n",
      "8     49\n",
      "Name: NumCompaniesWorked, dtype: int64\n",
      "\n",
      "OverTime\n",
      "No     1044\n",
      "Yes     407\n",
      "Name: OverTime, dtype: int64\n",
      "\n",
      "PercentSalaryHike\n",
      "13    207\n",
      "11    205\n",
      "14    199\n",
      "12    196\n",
      "15     98\n",
      "18     88\n",
      "17     81\n",
      "16     77\n",
      "19     76\n",
      "22     56\n",
      "20     55\n",
      "21     47\n",
      "23     28\n",
      "24     20\n",
      "25     18\n",
      "Name: PercentSalaryHike, dtype: int64\n",
      "\n",
      "PerformanceRating\n",
      "Excellent      1227\n",
      "Outstanding     224\n",
      "Name: PerformanceRating, dtype: int64\n",
      "\n",
      "RelationshipSatisfaction\n",
      "high         453\n",
      "very_high    424\n",
      "meduim       301\n",
      "low          273\n",
      "Name: RelationshipSatisfaction, dtype: int64\n",
      "\n",
      "StockOptionLevel\n",
      "zero     624\n",
      "one      584\n",
      "two      158\n",
      "three     85\n",
      "Name: StockOptionLevel, dtype: int64\n",
      "\n",
      "TotalWorkingYears\n",
      "10    202\n",
      "6     125\n",
      "8     103\n",
      "9      96\n",
      "5      88\n",
      "1      81\n",
      "7      81\n",
      "4      63\n",
      "12     48\n",
      "3      42\n",
      "15     40\n",
      "16     37\n",
      "11     36\n",
      "13     36\n",
      "21     34\n",
      "17     33\n",
      "14     31\n",
      "2      31\n",
      "20     30\n",
      "18     27\n",
      "19     22\n",
      "23     22\n",
      "22     21\n",
      "24     18\n",
      "25     14\n",
      "26     14\n",
      "28     14\n",
      "0      11\n",
      "29     10\n",
      "27      7\n",
      "30      7\n",
      "31      6\n",
      "32      6\n",
      "36      5\n",
      "33      3\n",
      "35      3\n",
      "37      3\n",
      "34      1\n",
      "Name: TotalWorkingYears, dtype: int64\n",
      "\n",
      "TrainingTimesLastYear\n",
      "2    541\n",
      "3    484\n",
      "4    122\n",
      "5    115\n",
      "1     70\n",
      "6     65\n",
      "0     54\n",
      "Name: TrainingTimesLastYear, dtype: int64\n",
      "\n",
      "WorkLifeBalance\n",
      "better    880\n",
      "good      341\n",
      "best      151\n",
      "bad        79\n",
      "Name: WorkLifeBalance, dtype: int64\n",
      "\n",
      "YearsAtCompany\n",
      "5     196\n",
      "1     171\n",
      "3     128\n",
      "2     127\n",
      "10    120\n",
      "4     110\n",
      "7      90\n",
      "9      82\n",
      "8      80\n",
      "6      76\n",
      "0      44\n",
      "11     32\n",
      "20     27\n",
      "13     24\n",
      "15     20\n",
      "14     18\n",
      "22     15\n",
      "12     14\n",
      "21     14\n",
      "18     13\n",
      "16     12\n",
      "19     11\n",
      "17      9\n",
      "24      6\n",
      "26      4\n",
      "25      4\n",
      "23      2\n",
      "27      2\n",
      "Name: YearsAtCompany, dtype: int64\n",
      "\n",
      "YearsInCurrentRole\n",
      "2     372\n",
      "0     244\n",
      "7     220\n",
      "3     135\n",
      "4     104\n",
      "8      87\n",
      "9      64\n",
      "1      57\n",
      "5      35\n",
      "6      33\n",
      "10     25\n",
      "11     22\n",
      "13     14\n",
      "12     10\n",
      "14     10\n",
      "15      7\n",
      "16      7\n",
      "17      4\n",
      "18      1\n",
      "Name: YearsInCurrentRole, dtype: int64\n",
      "\n",
      "YearsSinceLastPromotion\n",
      "0     579\n",
      "1     354\n",
      "2     158\n",
      "7      76\n",
      "4      60\n",
      "3      52\n",
      "5      45\n",
      "6      31\n",
      "11     21\n",
      "8      18\n",
      "9      17\n",
      "15     10\n",
      "12      9\n",
      "14      8\n",
      "13      8\n",
      "10      5\n",
      "Name: YearsSinceLastPromotion, dtype: int64\n",
      "\n",
      "YearsWithCurrManager\n",
      "2     344\n",
      "0     262\n",
      "7     214\n",
      "3     142\n",
      "8     105\n",
      "4      98\n",
      "1      76\n",
      "9      59\n",
      "5      31\n",
      "6      28\n",
      "10     24\n",
      "11     22\n",
      "12     17\n",
      "13     11\n",
      "17      7\n",
      "14      5\n",
      "15      5\n",
      "16      1\n",
      "Name: YearsWithCurrManager, dtype: int64\n",
      "\n"
     ]
    }
   ],
   "source": [
    "for column in df.columns:\n",
    "    \n",
    "    print(column)\n",
    "    print(df[f'{column}'].value_counts())\n",
    "    print('')"
   ]
  },
  {
   "cell_type": "markdown",
   "metadata": {},
   "source": [
    "## Dropped non-informative columns\n",
    "\n",
    "**Contains no useful information**<br/>\n",
    "EmployeeNumber\n",
    "\n",
    "**Value is the same for all employees**<br/>\n",
    "EmployeeCount<br/>\n",
    "Over18<br/>\n",
    "StandardHours<br/>"
   ]
  },
  {
   "cell_type": "code",
   "execution_count": 6,
   "metadata": {},
   "outputs": [],
   "source": [
    "for column in df.columns:\n",
    "    if column in ('EmployeeCount','EmployeeNumber','Over18','StandardHours'):\n",
    "        df = df.drop(columns = f'{column}')"
   ]
  },
  {
   "cell_type": "code",
   "execution_count": 40,
   "metadata": {},
   "outputs": [
    {
     "data": {
      "text/plain": [
       "Index(['Age', 'Attrition', 'BusinessTravel', 'DailyRate', 'Department',\n",
       "       'DistanceFromHome', 'Education', 'EducationField',\n",
       "       'EnvironmentSatisfaction', 'Gender', 'HourlyRate', 'JobInvolvement',\n",
       "       'JobLevel', 'JobRole', 'JobSatisfaction', 'MaritalStatus',\n",
       "       'MonthlyIncome', 'MonthlyRate', 'NumCompaniesWorked', 'OverTime',\n",
       "       'PercentSalaryHike', 'PerformanceRating', 'RelationshipSatisfaction',\n",
       "       'StockOptionLevel', 'TotalWorkingYears', 'TrainingTimesLastYear',\n",
       "       'WorkLifeBalance', 'YearsAtCompany', 'YearsInCurrentRole',\n",
       "       'YearsSinceLastPromotion', 'YearsWithCurrManager'],\n",
       "      dtype='object')"
      ]
     },
     "execution_count": 40,
     "metadata": {},
     "output_type": "execute_result"
    }
   ],
   "source": [
    "df.columns"
   ]
  },
  {
   "cell_type": "code",
   "execution_count": 7,
   "metadata": {},
   "outputs": [
    {
     "data": {
      "text/plain": [
       "(1470, 31)"
      ]
     },
     "execution_count": 7,
     "metadata": {},
     "output_type": "execute_result"
    }
   ],
   "source": [
    "df.shape"
   ]
  },
  {
   "cell_type": "markdown",
   "metadata": {},
   "source": [
    "## Changed the following ‘survey-like' features from numeric to categorical variables \n",
    "\n",
    "* Education\n",
    "\n",
    "* EnvironmentSatisfaction\n",
    "\n",
    "* JobInvolvement\n",
    "\n",
    "* JobSatisFaction\n",
    "\n",
    "* PerformanceRating\n",
    "\n",
    "* RelationshipSatisfaction\n",
    "\n",
    "* WorkLifeBalance\n",
    "\n",
    "* JobLevel\n",
    "\n",
    "* StockOptionLevel"
   ]
  },
  {
   "cell_type": "code",
   "execution_count": 9,
   "metadata": {},
   "outputs": [],
   "source": [
    "df.Education = df.Education.apply(lambda number : str(number).replace('1','no_college'))\n",
    "df.Education = df.Education.apply(lambda number : str(number).replace('2','some_college'))\n",
    "df.Education = df.Education.apply(lambda number : str(number).replace('3','bachelors_degree'))\n",
    "df.Education = df.Education.apply(lambda number : str(number).replace('4','masters_degree'))\n",
    "df.Education = df.Education.apply(lambda number : str(number).replace('5','Doctorate'))"
   ]
  },
  {
   "cell_type": "code",
   "execution_count": 10,
   "metadata": {},
   "outputs": [
    {
     "data": {
      "text/plain": [
       "bachelors_degree    572\n",
       "masters_degree      398\n",
       "some_college        282\n",
       "no_college          170\n",
       "Doctorate            48\n",
       "Name: Education, dtype: int64"
      ]
     },
     "execution_count": 10,
     "metadata": {},
     "output_type": "execute_result"
    }
   ],
   "source": [
    "df.Education.value_counts()"
   ]
  },
  {
   "cell_type": "code",
   "execution_count": 11,
   "metadata": {},
   "outputs": [],
   "source": [
    "df.EnvironmentSatisfaction = df.EnvironmentSatisfaction.apply(lambda number : str(number).replace('1','low'))\n",
    "df.EnvironmentSatisfaction = df.EnvironmentSatisfaction.apply(lambda number : str(number).replace('2','meduim'))\n",
    "df.EnvironmentSatisfaction = df.EnvironmentSatisfaction.apply(lambda number : str(number).replace('3','high'))\n",
    "df.EnvironmentSatisfaction = df.EnvironmentSatisfaction.apply(lambda number : str(number).replace('4','very_high'))"
   ]
  },
  {
   "cell_type": "code",
   "execution_count": 12,
   "metadata": {},
   "outputs": [
    {
     "data": {
      "text/plain": [
       "high         453\n",
       "very_high    446\n",
       "meduim       287\n",
       "low          284\n",
       "Name: EnvironmentSatisfaction, dtype: int64"
      ]
     },
     "execution_count": 12,
     "metadata": {},
     "output_type": "execute_result"
    }
   ],
   "source": [
    "df.EnvironmentSatisfaction.value_counts()"
   ]
  },
  {
   "cell_type": "code",
   "execution_count": 13,
   "metadata": {},
   "outputs": [],
   "source": [
    "df.JobInvolvement = df.JobInvolvement.apply(lambda number : str(number).replace('1','low'))\n",
    "df.JobInvolvement = df.JobInvolvement.apply(lambda number : str(number).replace('2','meduim'))\n",
    "df.JobInvolvement = df.JobInvolvement.apply(lambda number : str(number).replace('3','high'))\n",
    "df.JobInvolvement = df.JobInvolvement.apply(lambda number : str(number).replace('4','very_high'))"
   ]
  },
  {
   "cell_type": "code",
   "execution_count": 14,
   "metadata": {},
   "outputs": [
    {
     "data": {
      "text/plain": [
       "high         868\n",
       "meduim       375\n",
       "very_high    144\n",
       "low           83\n",
       "Name: JobInvolvement, dtype: int64"
      ]
     },
     "execution_count": 14,
     "metadata": {},
     "output_type": "execute_result"
    }
   ],
   "source": [
    "df.JobInvolvement.value_counts()"
   ]
  },
  {
   "cell_type": "code",
   "execution_count": 15,
   "metadata": {},
   "outputs": [],
   "source": [
    "df.JobSatisfaction = df.JobSatisfaction.apply(lambda number : str(number).replace('1','low'))\n",
    "df.JobSatisfaction = df.JobSatisfaction.apply(lambda number : str(number).replace('2','meduim'))\n",
    "df.JobSatisfaction = df.JobSatisfaction.apply(lambda number : str(number).replace('3','high'))\n",
    "df.JobSatisfaction = df.JobSatisfaction.apply(lambda number : str(number).replace('4','very_high'))"
   ]
  },
  {
   "cell_type": "code",
   "execution_count": 16,
   "metadata": {},
   "outputs": [
    {
     "data": {
      "text/plain": [
       "very_high    459\n",
       "high         442\n",
       "low          289\n",
       "meduim       280\n",
       "Name: JobSatisfaction, dtype: int64"
      ]
     },
     "execution_count": 16,
     "metadata": {},
     "output_type": "execute_result"
    }
   ],
   "source": [
    "df.JobSatisfaction.value_counts()"
   ]
  },
  {
   "cell_type": "code",
   "execution_count": 17,
   "metadata": {},
   "outputs": [],
   "source": [
    "df.PerformanceRating = df.PerformanceRating.apply(lambda number : str(number).replace('1','low'))\n",
    "df.PerformanceRating = df.PerformanceRating.apply(lambda number : str(number).replace('2','good'))\n",
    "df.PerformanceRating = df.PerformanceRating.apply(lambda number : str(number).replace('3','Excellent'))\n",
    "df.PerformanceRating = df.PerformanceRating.apply(lambda number : str(number).replace('4','Outstanding'))"
   ]
  },
  {
   "cell_type": "code",
   "execution_count": 18,
   "metadata": {},
   "outputs": [
    {
     "data": {
      "text/plain": [
       "Excellent      1244\n",
       "Outstanding     226\n",
       "Name: PerformanceRating, dtype: int64"
      ]
     },
     "execution_count": 18,
     "metadata": {},
     "output_type": "execute_result"
    }
   ],
   "source": [
    "df.PerformanceRating.value_counts()"
   ]
  },
  {
   "cell_type": "code",
   "execution_count": 19,
   "metadata": {},
   "outputs": [],
   "source": [
    "df.RelationshipSatisfaction = df.RelationshipSatisfaction.apply(lambda number : str(number).replace('1','low'))\n",
    "df.RelationshipSatisfaction = df.RelationshipSatisfaction.apply(lambda number : str(number).replace('2','meduim'))\n",
    "df.RelationshipSatisfaction = df.RelationshipSatisfaction.apply(lambda number : str(number).replace('3','high'))\n",
    "df.RelationshipSatisfaction = df.RelationshipSatisfaction.apply(lambda number : str(number).replace('4','very_high'))"
   ]
  },
  {
   "cell_type": "code",
   "execution_count": 20,
   "metadata": {},
   "outputs": [
    {
     "data": {
      "text/plain": [
       "high         459\n",
       "very_high    432\n",
       "meduim       303\n",
       "low          276\n",
       "Name: RelationshipSatisfaction, dtype: int64"
      ]
     },
     "execution_count": 20,
     "metadata": {},
     "output_type": "execute_result"
    }
   ],
   "source": [
    "df.RelationshipSatisfaction.value_counts()"
   ]
  },
  {
   "cell_type": "code",
   "execution_count": 21,
   "metadata": {},
   "outputs": [],
   "source": [
    "df.WorkLifeBalance = df.WorkLifeBalance.apply(lambda number : str(number).replace('1','bad'))\n",
    "df.WorkLifeBalance = df.WorkLifeBalance.apply(lambda number : str(number).replace('2','good'))\n",
    "df.WorkLifeBalance = df.WorkLifeBalance.apply(lambda number : str(number).replace('3','better'))\n",
    "df.WorkLifeBalance = df.WorkLifeBalance.apply(lambda number : str(number).replace('4','best'))"
   ]
  },
  {
   "cell_type": "code",
   "execution_count": 22,
   "metadata": {},
   "outputs": [
    {
     "data": {
      "text/plain": [
       "better    893\n",
       "good      344\n",
       "best      153\n",
       "bad        80\n",
       "Name: WorkLifeBalance, dtype: int64"
      ]
     },
     "execution_count": 22,
     "metadata": {},
     "output_type": "execute_result"
    }
   ],
   "source": [
    "df.WorkLifeBalance.value_counts()"
   ]
  },
  {
   "cell_type": "code",
   "execution_count": 23,
   "metadata": {},
   "outputs": [],
   "source": [
    "df.JobLevel = df.JobLevel.apply(lambda number : str(number).replace('1','one'))\n",
    "df.JobLevel = df.JobLevel.apply(lambda number : str(number).replace('2','two'))\n",
    "df.JobLevel = df.JobLevel.apply(lambda number : str(number).replace('3','three'))\n",
    "df.JobLevel = df.JobLevel.apply(lambda number : str(number).replace('4','four'))\n",
    "df.JobLevel = df.JobLevel.apply(lambda number : str(number).replace('5','five'))"
   ]
  },
  {
   "cell_type": "code",
   "execution_count": 24,
   "metadata": {},
   "outputs": [
    {
     "data": {
      "text/plain": [
       "one      543\n",
       "two      534\n",
       "three    218\n",
       "four     106\n",
       "five      69\n",
       "Name: JobLevel, dtype: int64"
      ]
     },
     "execution_count": 24,
     "metadata": {},
     "output_type": "execute_result"
    }
   ],
   "source": [
    "df.JobLevel.value_counts()"
   ]
  },
  {
   "cell_type": "code",
   "execution_count": 25,
   "metadata": {},
   "outputs": [],
   "source": [
    "df.StockOptionLevel = df.StockOptionLevel.apply(lambda number : str(number).replace('0','zero'))\n",
    "df.StockOptionLevel = df.StockOptionLevel.apply(lambda number : str(number).replace('1','one'))\n",
    "df.StockOptionLevel = df.StockOptionLevel.apply(lambda number : str(number).replace('2','two'))\n",
    "df.StockOptionLevel = df.StockOptionLevel.apply(lambda number : str(number).replace('3','three'))"
   ]
  },
  {
   "cell_type": "code",
   "execution_count": 26,
   "metadata": {},
   "outputs": [
    {
     "data": {
      "text/plain": [
       "zero     631\n",
       "one      596\n",
       "two      158\n",
       "three     85\n",
       "Name: StockOptionLevel, dtype: int64"
      ]
     },
     "execution_count": 26,
     "metadata": {},
     "output_type": "execute_result"
    }
   ],
   "source": [
    "df.StockOptionLevel.value_counts()"
   ]
  },
  {
   "cell_type": "markdown",
   "metadata": {},
   "source": [
    "## Removing Outliers \n",
    "* After puting the data with the above transformations into DataRobot it identified the 'YearsAtCompany' column as containing outliers\n",
    "* I reviewed the data I decided to drop outliers using the interquortile rule\n",
    "* This removed employees with a 'YearsAtCompany' value greater than 27 from the dataset\n",
    "* Dropped lines totaled 19"
   ]
  },
  {
   "cell_type": "code",
   "execution_count": 28,
   "metadata": {},
   "outputs": [],
   "source": [
    "def get_outliers_iqr(df, col):\n",
    "    \n",
    "    q75, q25 = np.percentile(df[col], [75,25])\n",
    "    upper_bound = 3*stats.iqr(df[col]) + q75\n",
    "    lower_bound = q25 - 3*stats.iqr(df[col])\n",
    "        \n",
    "    return upper_bound, lower_bound"
   ]
  },
  {
   "cell_type": "code",
   "execution_count": 29,
   "metadata": {},
   "outputs": [
    {
     "data": {
      "text/plain": [
       "(27.0, -15.0)"
      ]
     },
     "execution_count": 29,
     "metadata": {},
     "output_type": "execute_result"
    }
   ],
   "source": [
    "get_outliers_iqr(df, ['YearsAtCompany'])"
   ]
  },
  {
   "cell_type": "code",
   "execution_count": 30,
   "metadata": {},
   "outputs": [],
   "source": [
    "def remove_outliers_iqr(df, columns):\n",
    "    for col in columns:\n",
    "        q75, q25 = np.percentile(df[col], [75,25])\n",
    "        ub = 3*stats.iqr(df[col]) + q75\n",
    "        lb = q25 - 3*stats.iqr(df[col])\n",
    "        df = df[df[col] <= ub]\n",
    "        df = df[df[col] >= lb]\n",
    "    return df"
   ]
  },
  {
   "cell_type": "code",
   "execution_count": 31,
   "metadata": {},
   "outputs": [],
   "source": [
    "df = remove_outliers_iqr(df, ['YearsAtCompany'])"
   ]
  },
  {
   "cell_type": "code",
   "execution_count": 33,
   "metadata": {},
   "outputs": [
    {
     "data": {
      "text/plain": [
       "27"
      ]
     },
     "execution_count": 33,
     "metadata": {},
     "output_type": "execute_result"
    }
   ],
   "source": [
    "employee_churn_outliers_removed = df\n",
    "\n",
    "employee_churn_outliers_removed.YearsAtCompany.max()"
   ]
  },
  {
   "cell_type": "code",
   "execution_count": 34,
   "metadata": {},
   "outputs": [
    {
     "data": {
      "text/plain": [
       "(1451, 31)"
      ]
     },
     "execution_count": 34,
     "metadata": {},
     "output_type": "execute_result"
    }
   ],
   "source": [
    "employee_churn_outliers_removed.shape"
   ]
  },
  {
   "cell_type": "markdown",
   "metadata": {},
   "source": [
    "# Create CSV with Prepared Data\n",
    "* The CSV was then used to explore the data and create models in DataRobot"
   ]
  },
  {
   "cell_type": "code",
   "execution_count": null,
   "metadata": {},
   "outputs": [],
   "source": [
    "#employee_churn_outliers_removed.to_csv('employee_churn_outliers_removed.csv',index=False)"
   ]
  },
  {
   "cell_type": "code",
   "execution_count": null,
   "metadata": {},
   "outputs": [],
   "source": []
  },
  {
   "attachments": {},
   "cell_type": "markdown",
   "metadata": {},
   "source": [
    "# Feature Engineering\n",
    "* Values with similar rates of Attrition within a given categorical feature were merged together in ‘value clusters’\n",
    "* When Datarobot creates models, it encodes each value in categorical features as separate feature\n",
    "* Creating value clusters would reduce the number of post-encoding features that would go into each model while preserving most of the information contained in each of the pre-encoding features\n",
    "\n",
    "**The following features were created using 'value clusters’ of a parent feature. The parent feature was then dropped from the dataset.**\n",
    "* JobRoleCluster\n",
    "* StockOptionLevelCluster\n",
    "* JobLevelCluster\n",
    "* JobSatisfactionCluster\n",
    "* EnvironmentSatisfactionCluster\n",
    "* EducationFieldCluster\n",
    "* RelationshipSatisfactionCluster\n",
    "* MaritalStatusCluster\n",
    "* WorkLifeBalanceCluster\n",
    "* JobInvolvementCluster\n",
    "\n"
   ]
  },
  {
   "cell_type": "code",
   "execution_count": null,
   "metadata": {},
   "outputs": [],
   "source": [
    "df.head()"
   ]
  },
  {
   "cell_type": "code",
   "execution_count": null,
   "metadata": {},
   "outputs": [],
   "source": [
    "df.columns"
   ]
  },
  {
   "cell_type": "code",
   "execution_count": null,
   "metadata": {},
   "outputs": [],
   "source": [
    "df.JobRole.value_counts()"
   ]
  },
  {
   "cell_type": "code",
   "execution_count": null,
   "metadata": {},
   "outputs": [],
   "source": [
    "df['JobRoleCluster'] = df.JobRole"
   ]
  },
  {
   "cell_type": "code",
   "execution_count": null,
   "metadata": {},
   "outputs": [],
   "source": [
    "df.JobRoleCluster.value_counts()"
   ]
  },
  {
   "cell_type": "code",
   "execution_count": null,
   "metadata": {},
   "outputs": [],
   "source": [
    "df.JobRole.value_counts()"
   ]
  },
  {
   "cell_type": "code",
   "execution_count": null,
   "metadata": {},
   "outputs": [],
   "source": [
    "df.JobRoleCluster = df.JobRoleCluster.apply(lambda value : value.replace('Sales Executive','Cluster 1'))\n",
    "df.JobRoleCluster = df.JobRoleCluster.apply(lambda value : value.replace('Research Scientist','Cluster 1'))\n",
    "\n",
    "df.JobRoleCluster = df.JobRoleCluster.apply(lambda value : value.replace('Laboratory Technician','Cluster 2'))\n",
    "df.JobRoleCluster = df.JobRoleCluster.apply(lambda value : value.replace('Human Resources','Cluster 2'))\n",
    "\n",
    "df.JobRoleCluster = df.JobRoleCluster.apply(lambda value : value.replace('Manufacturing Director','Cluster 3'))\n",
    "df.JobRoleCluster = df.JobRoleCluster.apply(lambda value : value.replace('Healthcare Representative','Cluster 3'))\n",
    "df.JobRoleCluster = df.JobRoleCluster.apply(lambda value : value.replace('Manager','Cluster 3'))\n",
    "df.JobRoleCluster = df.JobRoleCluster.apply(lambda value : value.replace('Research Director','Cluster 3'))\n",
    "\n",
    "df.JobRoleCluster = df.JobRoleCluster.apply(lambda value : value.replace('Sales Representative','Cluster 4'))\n",
    "\n",
    "df.JobRoleCluster.value_counts()"
   ]
  },
  {
   "cell_type": "code",
   "execution_count": null,
   "metadata": {},
   "outputs": [],
   "source": [
    "df.StockOptionLevel.value_counts()"
   ]
  },
  {
   "cell_type": "code",
   "execution_count": null,
   "metadata": {},
   "outputs": [],
   "source": [
    "df['StockOptionLevelCluster'] = df.StockOptionLevel\n",
    "\n",
    "df.StockOptionLevelCluster = df.StockOptionLevelCluster.apply(lambda value : value.replace('zero','Cluster 1'))\n",
    "df.StockOptionLevelCluster = df.StockOptionLevelCluster.apply(lambda value : value.replace('one','Cluster 2'))\n",
    "df.StockOptionLevelCluster = df.StockOptionLevelCluster.apply(lambda value : value.replace('two','Cluster 2'))\n",
    "df.StockOptionLevelCluster = df.StockOptionLevelCluster.apply(lambda value : value.replace('three','Cluster 3'))\n",
    "\n",
    "\n",
    "df.StockOptionLevelCluster.value_counts()"
   ]
  },
  {
   "cell_type": "code",
   "execution_count": null,
   "metadata": {},
   "outputs": [],
   "source": [
    "df.JobLevel.value_counts()"
   ]
  },
  {
   "cell_type": "code",
   "execution_count": null,
   "metadata": {},
   "outputs": [],
   "source": [
    "df['JobLevelCluster'] = df.JobLevel\n",
    "\n",
    "df.JobLevelCluster = df.JobLevelCluster.apply(lambda value : value.replace('one','Cluster 1'))\n",
    "df.JobLevelCluster = df.JobLevelCluster.apply(lambda value : value.replace('three','Cluster 2'))\n",
    "df.JobLevelCluster = df.JobLevelCluster.apply(lambda value : value.replace('two','Cluster 3'))\n",
    "df.JobLevelCluster = df.JobLevelCluster.apply(lambda value : value.replace('four','Cluster 3'))\n",
    "df.JobLevelCluster = df.JobLevelCluster.apply(lambda value : value.replace('five','Cluster 3'))\n",
    "\n",
    "df['JobLevelCluster'].value_counts()"
   ]
  },
  {
   "cell_type": "code",
   "execution_count": null,
   "metadata": {},
   "outputs": [],
   "source": [
    "df.JobSatisfaction.value_counts()"
   ]
  },
  {
   "cell_type": "code",
   "execution_count": null,
   "metadata": {},
   "outputs": [],
   "source": [
    "df['JobSatisfactionCluster'] = df.JobSatisfaction\n",
    "\n",
    "df.JobSatisfactionCluster = df.JobSatisfactionCluster.apply(lambda value : value.replace('very_high','Cluster 1'))\n",
    "df.JobSatisfactionCluster = df.JobSatisfactionCluster.apply(lambda value : value.replace('high','Cluster 2'))\n",
    "df.JobSatisfactionCluster = df.JobSatisfactionCluster.apply(lambda value : value.replace('meduim','Cluster 2'))\n",
    "df.JobSatisfactionCluster = df.JobSatisfactionCluster.apply(lambda value : value.replace('low','Cluster 3'))\n",
    "\n",
    "\n",
    "df['JobSatisfactionCluster'].value_counts()"
   ]
  },
  {
   "cell_type": "code",
   "execution_count": null,
   "metadata": {},
   "outputs": [],
   "source": [
    "df.EnvironmentSatisfaction.value_counts()"
   ]
  },
  {
   "cell_type": "code",
   "execution_count": null,
   "metadata": {},
   "outputs": [],
   "source": [
    "df['EnvironmentSatisfactionCluster'] = df.EnvironmentSatisfaction\n",
    "\n",
    "df.EnvironmentSatisfactionCluster = df.EnvironmentSatisfactionCluster.apply(lambda value : value.replace('very_high','Cluster 1'))\n",
    "df.EnvironmentSatisfactionCluster = df.EnvironmentSatisfactionCluster.apply(lambda value : value.replace('high','Cluster 2'))\n",
    "df.EnvironmentSatisfactionCluster = df.EnvironmentSatisfactionCluster.apply(lambda value : value.replace('meduim','Cluster 2'))\n",
    "df.EnvironmentSatisfactionCluster = df.EnvironmentSatisfactionCluster.apply(lambda value : value.replace('low','Cluster 2'))\n",
    "\n",
    "\n",
    "df['EnvironmentSatisfactionCluster'].value_counts()"
   ]
  },
  {
   "cell_type": "code",
   "execution_count": null,
   "metadata": {},
   "outputs": [],
   "source": [
    "df.EducationField.value_counts()"
   ]
  },
  {
   "cell_type": "code",
   "execution_count": null,
   "metadata": {},
   "outputs": [],
   "source": [
    "df['EducationFieldCluster'] = df.EducationField\n",
    "\n",
    "df.EducationFieldCluster = df.EducationFieldCluster.apply(lambda value : value.replace('Life Sciences','Cluster 1'))\n",
    "df.EducationFieldCluster = df.EducationFieldCluster.apply(lambda value : value.replace('Medical','Cluster 1'))\n",
    "df.EducationFieldCluster = df.EducationFieldCluster.apply(lambda value : value.replace('Other','Cluster 1'))\n",
    "df.EducationFieldCluster = df.EducationFieldCluster.apply(lambda value : value.replace('Marketing','Cluster 2'))\n",
    "df.EducationFieldCluster = df.EducationFieldCluster.apply(lambda value : value.replace('Technical Degree','Cluster 2'))\n",
    "df.EducationFieldCluster = df.EducationFieldCluster.apply(lambda value : value.replace('Human Resources','Cluster 3'))\n",
    "\n",
    "\n",
    "df['EducationFieldCluster'].value_counts()"
   ]
  },
  {
   "cell_type": "code",
   "execution_count": null,
   "metadata": {},
   "outputs": [],
   "source": [
    "df.RelationshipSatisfaction.value_counts()"
   ]
  },
  {
   "cell_type": "code",
   "execution_count": null,
   "metadata": {},
   "outputs": [],
   "source": [
    "df['RelationshipSatisfactionCluster'] = df.RelationshipSatisfaction\n",
    "\n",
    "df.RelationshipSatisfactionCluster = df.RelationshipSatisfactionCluster.apply(lambda value : value.replace('very_high','Cluster 1'))\n",
    "df.RelationshipSatisfactionCluster = df.RelationshipSatisfactionCluster.apply(lambda value : value.replace('high','Cluster 1'))\n",
    "df.RelationshipSatisfactionCluster = df.RelationshipSatisfactionCluster.apply(lambda value : value.replace('meduim','Cluster 1'))\n",
    "df.RelationshipSatisfactionCluster = df.RelationshipSatisfactionCluster.apply(lambda value : value.replace('low','Cluster 2'))\n",
    "\n",
    "\n",
    "df['RelationshipSatisfactionCluster'].value_counts()"
   ]
  },
  {
   "cell_type": "code",
   "execution_count": null,
   "metadata": {},
   "outputs": [],
   "source": [
    "df.MaritalStatus.value_counts()"
   ]
  },
  {
   "cell_type": "code",
   "execution_count": null,
   "metadata": {},
   "outputs": [],
   "source": [
    "df['MaritalStatusCluster'] = df.MaritalStatus\n",
    "\n",
    "df.MaritalStatusCluster = df.MaritalStatusCluster.apply(lambda value : value.replace('Married','Cluster 1'))\n",
    "df.MaritalStatusCluster = df.MaritalStatusCluster.apply(lambda value : value.replace('Divorced','Cluster 1'))\n",
    "df.MaritalStatusCluster = df.MaritalStatusCluster.apply(lambda value : value.replace('Single','Cluster 2'))\n",
    "\n",
    "\n",
    "\n",
    "df['MaritalStatusCluster'].value_counts()"
   ]
  },
  {
   "cell_type": "code",
   "execution_count": null,
   "metadata": {},
   "outputs": [],
   "source": [
    "df.WorkLifeBalance.value_counts()"
   ]
  },
  {
   "cell_type": "code",
   "execution_count": null,
   "metadata": {},
   "outputs": [],
   "source": [
    "df['WorkLifeBalanceCluster'] = df.WorkLifeBalance\n",
    "\n",
    "df.WorkLifeBalanceCluster = df.WorkLifeBalanceCluster.apply(lambda value : value.replace('best','Cluster 1'))\n",
    "df.WorkLifeBalanceCluster = df.WorkLifeBalanceCluster.apply(lambda value : value.replace('better','Cluster 1'))\n",
    "df.WorkLifeBalanceCluster = df.WorkLifeBalanceCluster.apply(lambda value : value.replace('good','Cluster 1'))\n",
    "df.WorkLifeBalanceCluster = df.WorkLifeBalanceCluster.apply(lambda value : value.replace('bad','Cluster 2'))\n",
    "\n",
    "df['WorkLifeBalanceCluster'].value_counts()"
   ]
  },
  {
   "cell_type": "code",
   "execution_count": null,
   "metadata": {},
   "outputs": [],
   "source": [
    "df.JobInvolvement.value_counts()"
   ]
  },
  {
   "cell_type": "code",
   "execution_count": null,
   "metadata": {},
   "outputs": [],
   "source": [
    "df['JobInvolvementCluster'] = df.JobInvolvement\n",
    "\n",
    "df.JobInvolvementCluster = df.JobInvolvementCluster.apply(lambda value : value.replace('very_high','Cluster 1'))\n",
    "df.JobInvolvementCluster = df.JobInvolvementCluster.apply(lambda value : value.replace('high','Cluster 1'))\n",
    "df.JobInvolvementCluster = df.JobInvolvementCluster.apply(lambda value : value.replace('meduim','Cluster 2'))\n",
    "df.JobInvolvementCluster = df.JobInvolvementCluster.apply(lambda value : value.replace('low','Cluster 3'))\n",
    "\n",
    "df['JobInvolvementCluster'].value_counts()"
   ]
  },
  {
   "cell_type": "code",
   "execution_count": null,
   "metadata": {},
   "outputs": [],
   "source": [
    "df = df.drop(columns=[ 'EducationField','EnvironmentSatisfaction','JobInvolvement',\n",
    "                  'JobLevel', 'JobRole', 'JobSatisfaction', \n",
    "                  'MaritalStatus','RelationshipSatisfaction','StockOptionLevel', \n",
    "                  'WorkLifeBalance','EducationField'])"
   ]
  },
  {
   "cell_type": "code",
   "execution_count": null,
   "metadata": {},
   "outputs": [],
   "source": [
    "df.shape"
   ]
  },
  {
   "cell_type": "code",
   "execution_count": null,
   "metadata": {},
   "outputs": [],
   "source": [
    "df.columns"
   ]
  },
  {
   "cell_type": "code",
   "execution_count": null,
   "metadata": {},
   "outputs": [],
   "source": [
    "#df.to_csv('employee_churn_catagorical_clusters.csv',index=False)"
   ]
  }
 ],
 "metadata": {
  "kernelspec": {
   "display_name": "Python 3",
   "language": "python",
   "name": "python3"
  },
  "language_info": {
   "codemirror_mode": {
    "name": "ipython",
    "version": 3
   },
   "file_extension": ".py",
   "mimetype": "text/x-python",
   "name": "python",
   "nbconvert_exporter": "python",
   "pygments_lexer": "ipython3",
   "version": "3.7.4"
  }
 },
 "nbformat": 4,
 "nbformat_minor": 2
}
