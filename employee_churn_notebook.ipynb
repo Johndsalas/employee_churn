{
 "cells": [
  {
   "cell_type": "markdown",
   "metadata": {},
   "source": [
    "# Imports"
   ]
  },
  {
   "cell_type": "code",
   "execution_count": 1,
   "metadata": {},
   "outputs": [],
   "source": [
    "import pandas as pd\n",
    "import numpy as np\n",
    "import scipy.stats as stats"
   ]
  },
  {
   "cell_type": "markdown",
   "metadata": {},
   "source": [
    "# Wrangle\n",
    "\n",
    "Title: IBM HR Analytics Employees Attrition & Performance\n",
    "\n",
    "Acquired from Kaggle\n",
    "\n",
    "Data is Synthetic and was Constructed by Data Scientists at IBM"
   ]
  },
  {
   "cell_type": "code",
   "execution_count": 2,
   "metadata": {
    "scrolled": true
   },
   "outputs": [
    {
     "data": {
      "text/html": [
       "<div>\n",
       "<style scoped>\n",
       "    .dataframe tbody tr th:only-of-type {\n",
       "        vertical-align: middle;\n",
       "    }\n",
       "\n",
       "    .dataframe tbody tr th {\n",
       "        vertical-align: top;\n",
       "    }\n",
       "\n",
       "    .dataframe thead th {\n",
       "        text-align: right;\n",
       "    }\n",
       "</style>\n",
       "<table border=\"1\" class=\"dataframe\">\n",
       "  <thead>\n",
       "    <tr style=\"text-align: right;\">\n",
       "      <th></th>\n",
       "      <th>Age</th>\n",
       "      <th>Attrition</th>\n",
       "      <th>BusinessTravel</th>\n",
       "      <th>DailyRate</th>\n",
       "      <th>Department</th>\n",
       "      <th>DistanceFromHome</th>\n",
       "      <th>Education</th>\n",
       "      <th>EducationField</th>\n",
       "      <th>EmployeeCount</th>\n",
       "      <th>EmployeeNumber</th>\n",
       "      <th>...</th>\n",
       "      <th>RelationshipSatisfaction</th>\n",
       "      <th>StandardHours</th>\n",
       "      <th>StockOptionLevel</th>\n",
       "      <th>TotalWorkingYears</th>\n",
       "      <th>TrainingTimesLastYear</th>\n",
       "      <th>WorkLifeBalance</th>\n",
       "      <th>YearsAtCompany</th>\n",
       "      <th>YearsInCurrentRole</th>\n",
       "      <th>YearsSinceLastPromotion</th>\n",
       "      <th>YearsWithCurrManager</th>\n",
       "    </tr>\n",
       "  </thead>\n",
       "  <tbody>\n",
       "    <tr>\n",
       "      <td>0</td>\n",
       "      <td>41</td>\n",
       "      <td>Yes</td>\n",
       "      <td>Travel_Rarely</td>\n",
       "      <td>1102</td>\n",
       "      <td>Sales</td>\n",
       "      <td>1</td>\n",
       "      <td>2</td>\n",
       "      <td>Life Sciences</td>\n",
       "      <td>1</td>\n",
       "      <td>1</td>\n",
       "      <td>...</td>\n",
       "      <td>1</td>\n",
       "      <td>80</td>\n",
       "      <td>0</td>\n",
       "      <td>8</td>\n",
       "      <td>0</td>\n",
       "      <td>1</td>\n",
       "      <td>6</td>\n",
       "      <td>4</td>\n",
       "      <td>0</td>\n",
       "      <td>5</td>\n",
       "    </tr>\n",
       "    <tr>\n",
       "      <td>1</td>\n",
       "      <td>49</td>\n",
       "      <td>No</td>\n",
       "      <td>Travel_Frequently</td>\n",
       "      <td>279</td>\n",
       "      <td>Research &amp; Development</td>\n",
       "      <td>8</td>\n",
       "      <td>1</td>\n",
       "      <td>Life Sciences</td>\n",
       "      <td>1</td>\n",
       "      <td>2</td>\n",
       "      <td>...</td>\n",
       "      <td>4</td>\n",
       "      <td>80</td>\n",
       "      <td>1</td>\n",
       "      <td>10</td>\n",
       "      <td>3</td>\n",
       "      <td>3</td>\n",
       "      <td>10</td>\n",
       "      <td>7</td>\n",
       "      <td>1</td>\n",
       "      <td>7</td>\n",
       "    </tr>\n",
       "    <tr>\n",
       "      <td>2</td>\n",
       "      <td>37</td>\n",
       "      <td>Yes</td>\n",
       "      <td>Travel_Rarely</td>\n",
       "      <td>1373</td>\n",
       "      <td>Research &amp; Development</td>\n",
       "      <td>2</td>\n",
       "      <td>2</td>\n",
       "      <td>Other</td>\n",
       "      <td>1</td>\n",
       "      <td>4</td>\n",
       "      <td>...</td>\n",
       "      <td>2</td>\n",
       "      <td>80</td>\n",
       "      <td>0</td>\n",
       "      <td>7</td>\n",
       "      <td>3</td>\n",
       "      <td>3</td>\n",
       "      <td>0</td>\n",
       "      <td>0</td>\n",
       "      <td>0</td>\n",
       "      <td>0</td>\n",
       "    </tr>\n",
       "    <tr>\n",
       "      <td>3</td>\n",
       "      <td>33</td>\n",
       "      <td>No</td>\n",
       "      <td>Travel_Frequently</td>\n",
       "      <td>1392</td>\n",
       "      <td>Research &amp; Development</td>\n",
       "      <td>3</td>\n",
       "      <td>4</td>\n",
       "      <td>Life Sciences</td>\n",
       "      <td>1</td>\n",
       "      <td>5</td>\n",
       "      <td>...</td>\n",
       "      <td>3</td>\n",
       "      <td>80</td>\n",
       "      <td>0</td>\n",
       "      <td>8</td>\n",
       "      <td>3</td>\n",
       "      <td>3</td>\n",
       "      <td>8</td>\n",
       "      <td>7</td>\n",
       "      <td>3</td>\n",
       "      <td>0</td>\n",
       "    </tr>\n",
       "    <tr>\n",
       "      <td>4</td>\n",
       "      <td>27</td>\n",
       "      <td>No</td>\n",
       "      <td>Travel_Rarely</td>\n",
       "      <td>591</td>\n",
       "      <td>Research &amp; Development</td>\n",
       "      <td>2</td>\n",
       "      <td>1</td>\n",
       "      <td>Medical</td>\n",
       "      <td>1</td>\n",
       "      <td>7</td>\n",
       "      <td>...</td>\n",
       "      <td>4</td>\n",
       "      <td>80</td>\n",
       "      <td>1</td>\n",
       "      <td>6</td>\n",
       "      <td>3</td>\n",
       "      <td>3</td>\n",
       "      <td>2</td>\n",
       "      <td>2</td>\n",
       "      <td>2</td>\n",
       "      <td>2</td>\n",
       "    </tr>\n",
       "  </tbody>\n",
       "</table>\n",
       "<p>5 rows × 35 columns</p>\n",
       "</div>"
      ],
      "text/plain": [
       "   Age Attrition     BusinessTravel  DailyRate              Department  \\\n",
       "0   41       Yes      Travel_Rarely       1102                   Sales   \n",
       "1   49        No  Travel_Frequently        279  Research & Development   \n",
       "2   37       Yes      Travel_Rarely       1373  Research & Development   \n",
       "3   33        No  Travel_Frequently       1392  Research & Development   \n",
       "4   27        No      Travel_Rarely        591  Research & Development   \n",
       "\n",
       "   DistanceFromHome  Education EducationField  EmployeeCount  EmployeeNumber  \\\n",
       "0                 1          2  Life Sciences              1               1   \n",
       "1                 8          1  Life Sciences              1               2   \n",
       "2                 2          2          Other              1               4   \n",
       "3                 3          4  Life Sciences              1               5   \n",
       "4                 2          1        Medical              1               7   \n",
       "\n",
       "   ...  RelationshipSatisfaction StandardHours  StockOptionLevel  \\\n",
       "0  ...                         1            80                 0   \n",
       "1  ...                         4            80                 1   \n",
       "2  ...                         2            80                 0   \n",
       "3  ...                         3            80                 0   \n",
       "4  ...                         4            80                 1   \n",
       "\n",
       "   TotalWorkingYears  TrainingTimesLastYear WorkLifeBalance  YearsAtCompany  \\\n",
       "0                  8                      0               1               6   \n",
       "1                 10                      3               3              10   \n",
       "2                  7                      3               3               0   \n",
       "3                  8                      3               3               8   \n",
       "4                  6                      3               3               2   \n",
       "\n",
       "  YearsInCurrentRole  YearsSinceLastPromotion  YearsWithCurrManager  \n",
       "0                  4                        0                     5  \n",
       "1                  7                        1                     7  \n",
       "2                  0                        0                     0  \n",
       "3                  7                        3                     0  \n",
       "4                  2                        2                     2  \n",
       "\n",
       "[5 rows x 35 columns]"
      ]
     },
     "execution_count": 2,
     "metadata": {},
     "output_type": "execute_result"
    }
   ],
   "source": [
    "df = pd.read_csv('WA_Fn-UseC_-HR-Employee-Attrition.csv')\n",
    "df.head()"
   ]
  },
  {
   "attachments": {},
   "cell_type": "markdown",
   "metadata": {},
   "source": [
    "# Problem Statement\n",
    "\n",
    "* ACME company has hired you as a consultant \n",
    "* ACME is currently experiencing an above average attrition rate\n",
    "* In an effort to address this, you have been tasked with developing a model to predict the top 20% of employees who are at risk for attrition.\n",
    "* Once identified, ACME can take steps to prevent those employees from attriting"
   ]
  },
  {
   "cell_type": "markdown",
   "metadata": {},
   "source": [
    "# Goal\n",
    "\n",
    "* Build a model, using DataRobot, to predict attrition in company employees\n",
    "\n",
    "* Models will be evaluated using the max return on investment (ROI) that results from their predictions \n",
    "\n",
    "* A model will be considered successful if its predictions result in a positive maximum ROI for the company on holdout data\n"
   ]
  },
  {
   "cell_type": "markdown",
   "metadata": {},
   "source": [
    "# Prepare\n",
    "* Dropped non-informative columns\n",
    "* Changed ‘survey-like’ features from numeric to categorical variables\n",
    "* Removed outliers\n"
   ]
  },
  {
   "cell_type": "code",
   "execution_count": 3,
   "metadata": {},
   "outputs": [
    {
     "data": {
      "text/plain": [
       "(1470, 35)"
      ]
     },
     "execution_count": 3,
     "metadata": {},
     "output_type": "execute_result"
    }
   ],
   "source": [
    "df.shape"
   ]
  },
  {
   "cell_type": "code",
   "execution_count": 4,
   "metadata": {},
   "outputs": [
    {
     "data": {
      "text/plain": [
       "No     1233\n",
       "Yes     237\n",
       "Name: Attrition, dtype: int64"
      ]
     },
     "execution_count": 4,
     "metadata": {},
     "output_type": "execute_result"
    }
   ],
   "source": [
    "df.Attrition.value_counts()"
   ]
  },
  {
   "cell_type": "code",
   "execution_count": 5,
   "metadata": {},
   "outputs": [],
   "source": [
    "# for column in df.columns:\n",
    "    \n",
    "#     print(column)\n",
    "#     print(df[f'{column}'].value_counts())\n",
    "#     print('')"
   ]
  },
  {
   "cell_type": "markdown",
   "metadata": {},
   "source": [
    "## Dropped non-informative columns\n",
    "\n",
    "**Contains no useful information**<br/>\n",
    "EmployeeNumber\n",
    "\n",
    "**Value is the same for all employees**<br/>\n",
    "EmployeeCount<br/>\n",
    "Over18<br/>\n",
    "StandardHours<br/>"
   ]
  },
  {
   "cell_type": "code",
   "execution_count": 6,
   "metadata": {},
   "outputs": [],
   "source": [
    "for column in df.columns:\n",
    "    if column in ('EmployeeCount','EmployeeNumber','Over18','StandardHours'):\n",
    "        df = df.drop(columns = f'{column}')"
   ]
  },
  {
   "cell_type": "code",
   "execution_count": 7,
   "metadata": {},
   "outputs": [
    {
     "data": {
      "text/plain": [
       "Index(['Age', 'Attrition', 'BusinessTravel', 'DailyRate', 'Department',\n",
       "       'DistanceFromHome', 'Education', 'EducationField',\n",
       "       'EnvironmentSatisfaction', 'Gender', 'HourlyRate', 'JobInvolvement',\n",
       "       'JobLevel', 'JobRole', 'JobSatisfaction', 'MaritalStatus',\n",
       "       'MonthlyIncome', 'MonthlyRate', 'NumCompaniesWorked', 'OverTime',\n",
       "       'PercentSalaryHike', 'PerformanceRating', 'RelationshipSatisfaction',\n",
       "       'StockOptionLevel', 'TotalWorkingYears', 'TrainingTimesLastYear',\n",
       "       'WorkLifeBalance', 'YearsAtCompany', 'YearsInCurrentRole',\n",
       "       'YearsSinceLastPromotion', 'YearsWithCurrManager'],\n",
       "      dtype='object')"
      ]
     },
     "execution_count": 7,
     "metadata": {},
     "output_type": "execute_result"
    }
   ],
   "source": [
    "df.columns"
   ]
  },
  {
   "cell_type": "code",
   "execution_count": 8,
   "metadata": {},
   "outputs": [
    {
     "data": {
      "text/plain": [
       "(1470, 31)"
      ]
     },
     "execution_count": 8,
     "metadata": {},
     "output_type": "execute_result"
    }
   ],
   "source": [
    "df.shape"
   ]
  },
  {
   "cell_type": "markdown",
   "metadata": {},
   "source": [
    "## Changed the following ‘survey-like' features from numeric to categorical variables \n",
    "\n",
    "* Education\n",
    "\n",
    "* EnvironmentSatisfaction\n",
    "\n",
    "* JobInvolvement\n",
    "\n",
    "* JobSatisFaction\n",
    "\n",
    "* PerformanceRating\n",
    "\n",
    "* RelationshipSatisfaction\n",
    "\n",
    "* WorkLifeBalance\n",
    "\n",
    "* JobLevel\n",
    "\n",
    "* StockOptionLevel"
   ]
  },
  {
   "cell_type": "code",
   "execution_count": 9,
   "metadata": {},
   "outputs": [],
   "source": [
    "df.Education = df.Education.apply(lambda number : str(number).replace('1','no_college'))\n",
    "df.Education = df.Education.apply(lambda number : str(number).replace('2','some_college'))\n",
    "df.Education = df.Education.apply(lambda number : str(number).replace('3','bachelors_degree'))\n",
    "df.Education = df.Education.apply(lambda number : str(number).replace('4','masters_degree'))\n",
    "df.Education = df.Education.apply(lambda number : str(number).replace('5','Doctorate'))"
   ]
  },
  {
   "cell_type": "code",
   "execution_count": 10,
   "metadata": {},
   "outputs": [
    {
     "data": {
      "text/plain": [
       "bachelors_degree    572\n",
       "masters_degree      398\n",
       "some_college        282\n",
       "no_college          170\n",
       "Doctorate            48\n",
       "Name: Education, dtype: int64"
      ]
     },
     "execution_count": 10,
     "metadata": {},
     "output_type": "execute_result"
    }
   ],
   "source": [
    "df.Education.value_counts()"
   ]
  },
  {
   "cell_type": "code",
   "execution_count": 11,
   "metadata": {},
   "outputs": [],
   "source": [
    "df.EnvironmentSatisfaction = df.EnvironmentSatisfaction.apply(lambda number : str(number).replace('1','low'))\n",
    "df.EnvironmentSatisfaction = df.EnvironmentSatisfaction.apply(lambda number : str(number).replace('2','meduim'))\n",
    "df.EnvironmentSatisfaction = df.EnvironmentSatisfaction.apply(lambda number : str(number).replace('3','high'))\n",
    "df.EnvironmentSatisfaction = df.EnvironmentSatisfaction.apply(lambda number : str(number).replace('4','very_high'))"
   ]
  },
  {
   "cell_type": "code",
   "execution_count": 12,
   "metadata": {},
   "outputs": [
    {
     "data": {
      "text/plain": [
       "high         453\n",
       "very_high    446\n",
       "meduim       287\n",
       "low          284\n",
       "Name: EnvironmentSatisfaction, dtype: int64"
      ]
     },
     "execution_count": 12,
     "metadata": {},
     "output_type": "execute_result"
    }
   ],
   "source": [
    "df.EnvironmentSatisfaction.value_counts()"
   ]
  },
  {
   "cell_type": "code",
   "execution_count": 13,
   "metadata": {},
   "outputs": [],
   "source": [
    "df.JobInvolvement = df.JobInvolvement.apply(lambda number : str(number).replace('1','low'))\n",
    "df.JobInvolvement = df.JobInvolvement.apply(lambda number : str(number).replace('2','meduim'))\n",
    "df.JobInvolvement = df.JobInvolvement.apply(lambda number : str(number).replace('3','high'))\n",
    "df.JobInvolvement = df.JobInvolvement.apply(lambda number : str(number).replace('4','very_high'))"
   ]
  },
  {
   "cell_type": "code",
   "execution_count": 14,
   "metadata": {},
   "outputs": [
    {
     "data": {
      "text/plain": [
       "high         868\n",
       "meduim       375\n",
       "very_high    144\n",
       "low           83\n",
       "Name: JobInvolvement, dtype: int64"
      ]
     },
     "execution_count": 14,
     "metadata": {},
     "output_type": "execute_result"
    }
   ],
   "source": [
    "df.JobInvolvement.value_counts()"
   ]
  },
  {
   "cell_type": "code",
   "execution_count": 15,
   "metadata": {},
   "outputs": [],
   "source": [
    "df.JobSatisfaction = df.JobSatisfaction.apply(lambda number : str(number).replace('1','low'))\n",
    "df.JobSatisfaction = df.JobSatisfaction.apply(lambda number : str(number).replace('2','meduim'))\n",
    "df.JobSatisfaction = df.JobSatisfaction.apply(lambda number : str(number).replace('3','high'))\n",
    "df.JobSatisfaction = df.JobSatisfaction.apply(lambda number : str(number).replace('4','very_high'))"
   ]
  },
  {
   "cell_type": "code",
   "execution_count": 16,
   "metadata": {},
   "outputs": [
    {
     "data": {
      "text/plain": [
       "very_high    459\n",
       "high         442\n",
       "low          289\n",
       "meduim       280\n",
       "Name: JobSatisfaction, dtype: int64"
      ]
     },
     "execution_count": 16,
     "metadata": {},
     "output_type": "execute_result"
    }
   ],
   "source": [
    "df.JobSatisfaction.value_counts()"
   ]
  },
  {
   "cell_type": "code",
   "execution_count": 17,
   "metadata": {},
   "outputs": [],
   "source": [
    "df.PerformanceRating = df.PerformanceRating.apply(lambda number : str(number).replace('1','low'))\n",
    "df.PerformanceRating = df.PerformanceRating.apply(lambda number : str(number).replace('2','good'))\n",
    "df.PerformanceRating = df.PerformanceRating.apply(lambda number : str(number).replace('3','Excellent'))\n",
    "df.PerformanceRating = df.PerformanceRating.apply(lambda number : str(number).replace('4','Outstanding'))"
   ]
  },
  {
   "cell_type": "code",
   "execution_count": 18,
   "metadata": {},
   "outputs": [
    {
     "data": {
      "text/plain": [
       "Excellent      1244\n",
       "Outstanding     226\n",
       "Name: PerformanceRating, dtype: int64"
      ]
     },
     "execution_count": 18,
     "metadata": {},
     "output_type": "execute_result"
    }
   ],
   "source": [
    "df.PerformanceRating.value_counts()"
   ]
  },
  {
   "cell_type": "code",
   "execution_count": 19,
   "metadata": {},
   "outputs": [],
   "source": [
    "df.RelationshipSatisfaction = df.RelationshipSatisfaction.apply(lambda number : str(number).replace('1','low'))\n",
    "df.RelationshipSatisfaction = df.RelationshipSatisfaction.apply(lambda number : str(number).replace('2','meduim'))\n",
    "df.RelationshipSatisfaction = df.RelationshipSatisfaction.apply(lambda number : str(number).replace('3','high'))\n",
    "df.RelationshipSatisfaction = df.RelationshipSatisfaction.apply(lambda number : str(number).replace('4','very_high'))"
   ]
  },
  {
   "cell_type": "code",
   "execution_count": 20,
   "metadata": {},
   "outputs": [
    {
     "data": {
      "text/plain": [
       "high         459\n",
       "very_high    432\n",
       "meduim       303\n",
       "low          276\n",
       "Name: RelationshipSatisfaction, dtype: int64"
      ]
     },
     "execution_count": 20,
     "metadata": {},
     "output_type": "execute_result"
    }
   ],
   "source": [
    "df.RelationshipSatisfaction.value_counts()"
   ]
  },
  {
   "cell_type": "code",
   "execution_count": 21,
   "metadata": {},
   "outputs": [],
   "source": [
    "df.WorkLifeBalance = df.WorkLifeBalance.apply(lambda number : str(number).replace('1','bad'))\n",
    "df.WorkLifeBalance = df.WorkLifeBalance.apply(lambda number : str(number).replace('2','good'))\n",
    "df.WorkLifeBalance = df.WorkLifeBalance.apply(lambda number : str(number).replace('3','better'))\n",
    "df.WorkLifeBalance = df.WorkLifeBalance.apply(lambda number : str(number).replace('4','best'))"
   ]
  },
  {
   "cell_type": "code",
   "execution_count": 22,
   "metadata": {},
   "outputs": [
    {
     "data": {
      "text/plain": [
       "better    893\n",
       "good      344\n",
       "best      153\n",
       "bad        80\n",
       "Name: WorkLifeBalance, dtype: int64"
      ]
     },
     "execution_count": 22,
     "metadata": {},
     "output_type": "execute_result"
    }
   ],
   "source": [
    "df.WorkLifeBalance.value_counts()"
   ]
  },
  {
   "cell_type": "code",
   "execution_count": 23,
   "metadata": {},
   "outputs": [],
   "source": [
    "df.JobLevel = df.JobLevel.apply(lambda number : str(number).replace('1','one'))\n",
    "df.JobLevel = df.JobLevel.apply(lambda number : str(number).replace('2','two'))\n",
    "df.JobLevel = df.JobLevel.apply(lambda number : str(number).replace('3','three'))\n",
    "df.JobLevel = df.JobLevel.apply(lambda number : str(number).replace('4','four'))\n",
    "df.JobLevel = df.JobLevel.apply(lambda number : str(number).replace('5','five'))"
   ]
  },
  {
   "cell_type": "code",
   "execution_count": 24,
   "metadata": {},
   "outputs": [
    {
     "data": {
      "text/plain": [
       "one      543\n",
       "two      534\n",
       "three    218\n",
       "four     106\n",
       "five      69\n",
       "Name: JobLevel, dtype: int64"
      ]
     },
     "execution_count": 24,
     "metadata": {},
     "output_type": "execute_result"
    }
   ],
   "source": [
    "df.JobLevel.value_counts()"
   ]
  },
  {
   "cell_type": "code",
   "execution_count": 25,
   "metadata": {},
   "outputs": [],
   "source": [
    "df.StockOptionLevel = df.StockOptionLevel.apply(lambda number : str(number).replace('0','zero'))\n",
    "df.StockOptionLevel = df.StockOptionLevel.apply(lambda number : str(number).replace('1','one'))\n",
    "df.StockOptionLevel = df.StockOptionLevel.apply(lambda number : str(number).replace('2','two'))\n",
    "df.StockOptionLevel = df.StockOptionLevel.apply(lambda number : str(number).replace('3','three'))"
   ]
  },
  {
   "cell_type": "code",
   "execution_count": 26,
   "metadata": {},
   "outputs": [
    {
     "data": {
      "text/plain": [
       "zero     631\n",
       "one      596\n",
       "two      158\n",
       "three     85\n",
       "Name: StockOptionLevel, dtype: int64"
      ]
     },
     "execution_count": 26,
     "metadata": {},
     "output_type": "execute_result"
    }
   ],
   "source": [
    "df.StockOptionLevel.value_counts()"
   ]
  },
  {
   "cell_type": "markdown",
   "metadata": {},
   "source": [
    "## Removing Outliers \n",
    "* After puting the data with the above transformations into DataRobot it identified the 'YearsAtCompany' column as containing outliers\n",
    "* I reviewed the data I decided to drop outliers using the interquortile rule\n",
    "* This removed employees with a 'YearsAtCompany' value greater than 27 from the dataset\n",
    "* Dropped lines totaled 19"
   ]
  },
  {
   "cell_type": "code",
   "execution_count": 27,
   "metadata": {},
   "outputs": [],
   "source": [
    "def get_outliers_iqr(df, col):\n",
    "    \n",
    "    q75, q25 = np.percentile(df[col], [75,25])\n",
    "    upper_bound = 3*stats.iqr(df[col]) + q75\n",
    "    lower_bound = q25 - 3*stats.iqr(df[col])\n",
    "        \n",
    "    return upper_bound, lower_bound"
   ]
  },
  {
   "cell_type": "code",
   "execution_count": 28,
   "metadata": {},
   "outputs": [
    {
     "data": {
      "text/plain": [
       "(27.0, -15.0)"
      ]
     },
     "execution_count": 28,
     "metadata": {},
     "output_type": "execute_result"
    }
   ],
   "source": [
    "get_outliers_iqr(df, ['YearsAtCompany'])"
   ]
  },
  {
   "cell_type": "code",
   "execution_count": 29,
   "metadata": {},
   "outputs": [],
   "source": [
    "def remove_outliers_iqr(df, columns):\n",
    "    for col in columns:\n",
    "        q75, q25 = np.percentile(df[col], [75,25])\n",
    "        ub = 3*stats.iqr(df[col]) + q75\n",
    "        lb = q25 - 3*stats.iqr(df[col])\n",
    "        df = df[df[col] <= ub]\n",
    "        df = df[df[col] >= lb]\n",
    "    return df"
   ]
  },
  {
   "cell_type": "code",
   "execution_count": 30,
   "metadata": {},
   "outputs": [],
   "source": [
    "df = remove_outliers_iqr(df, ['YearsAtCompany'])"
   ]
  },
  {
   "cell_type": "code",
   "execution_count": 31,
   "metadata": {},
   "outputs": [
    {
     "data": {
      "text/plain": [
       "27"
      ]
     },
     "execution_count": 31,
     "metadata": {},
     "output_type": "execute_result"
    }
   ],
   "source": [
    "employee_churn_outliers_removed = df\n",
    "\n",
    "employee_churn_outliers_removed.YearsAtCompany.max()"
   ]
  },
  {
   "cell_type": "code",
   "execution_count": 32,
   "metadata": {},
   "outputs": [
    {
     "data": {
      "text/plain": [
       "(1451, 31)"
      ]
     },
     "execution_count": 32,
     "metadata": {},
     "output_type": "execute_result"
    }
   ],
   "source": [
    "employee_churn_outliers_removed.shape"
   ]
  },
  {
   "cell_type": "markdown",
   "metadata": {},
   "source": [
    "# Create CSV with Prepared Data\n",
    "* The CSV was then used to explore the data and create models in DataRobot"
   ]
  },
  {
   "cell_type": "code",
   "execution_count": 33,
   "metadata": {},
   "outputs": [],
   "source": [
    "#employee_churn_outliers_removed.to_csv('employee_churn_outliers_removed.csv',index=False)"
   ]
  },
  {
   "cell_type": "markdown",
   "metadata": {},
   "source": [
    "# Explore Data, Build and Evaluate Models in DataRobot\n",
    "* Entered CSV into DataRobot\n",
    "* Explored how each feature is related to attrition\n",
    "* Ran initial models\n",
    "* Created additional feature lists to model on based on feature impact and feature collinearity\n",
    "* Ran additional models using new feature lists\n",
    "* Trained models on trian data \n",
    "* Evaluated Models on train and validate data \n",
    "* Used Max ROI as the key evaluation metric\n",
    "* The sample size of the training and validate data was 1161 \n",
    "* Considered feature engineering options"
   ]
  },
  {
   "cell_type": "markdown",
   "metadata": {},
   "source": [
    "# Feature Engineering\n",
    "* After my evaluating the models created using the fully prepared data I returned to Pandas for some feature engineering\n",
    "* Values with similar rates of Attrition within a given categorical feature were merged together in ‘value clusters’\n",
    "* When Datarobot creates models, it encodes each value in categorical features as separate feature\n",
    "* Creating value clusters would reduce the number of post-encoding features that would go into each model while preserving most of the information contained in each of the pre-encoding features\n",
    "* This will reduce noise and likely result in more accurate model predictions\n",
    "\n",
    "**The following features were created using 'value clusters’ of a parent feature. The parent feature was then dropped from the dataset.**\n",
    "* JobRoleCluster\n",
    "* StockOptionLevelCluster\n",
    "* JobLevelCluster\n",
    "* JobSatisfactionCluster\n",
    "* EnvironmentSatisfactionCluster\n",
    "* EducationFieldCluster\n",
    "* RelationshipSatisfactionCluster\n",
    "* MaritalStatusCluster\n",
    "* WorkLifeBalanceCluster\n",
    "* JobInvolvementCluster\n",
    "\n"
   ]
  },
  {
   "cell_type": "markdown",
   "metadata": {},
   "source": [
    "## Creating ‘Value Cluster’ Features"
   ]
  },
  {
   "cell_type": "code",
   "execution_count": 34,
   "metadata": {},
   "outputs": [
    {
     "data": {
      "text/plain": [
       "Cluster 1    617\n",
       "Cluster 3    440\n",
       "Cluster 2    311\n",
       "Cluster 4     83\n",
       "Name: JobRoleCluster, dtype: int64"
      ]
     },
     "execution_count": 34,
     "metadata": {},
     "output_type": "execute_result"
    }
   ],
   "source": [
    "df['JobRoleCluster'] = df.JobRole\n",
    "\n",
    "df.JobRoleCluster = df.JobRoleCluster.apply(lambda value : value.replace('Sales Executive','Cluster 1'))\n",
    "df.JobRoleCluster = df.JobRoleCluster.apply(lambda value : value.replace('Research Scientist','Cluster 1'))\n",
    "\n",
    "df.JobRoleCluster = df.JobRoleCluster.apply(lambda value : value.replace('Laboratory Technician','Cluster 2'))\n",
    "df.JobRoleCluster = df.JobRoleCluster.apply(lambda value : value.replace('Human Resources','Cluster 2'))\n",
    "\n",
    "df.JobRoleCluster = df.JobRoleCluster.apply(lambda value : value.replace('Manufacturing Director','Cluster 3'))\n",
    "df.JobRoleCluster = df.JobRoleCluster.apply(lambda value : value.replace('Healthcare Representative','Cluster 3'))\n",
    "df.JobRoleCluster = df.JobRoleCluster.apply(lambda value : value.replace('Manager','Cluster 3'))\n",
    "df.JobRoleCluster = df.JobRoleCluster.apply(lambda value : value.replace('Research Director','Cluster 3'))\n",
    "\n",
    "df.JobRoleCluster = df.JobRoleCluster.apply(lambda value : value.replace('Sales Representative','Cluster 4'))\n",
    "\n",
    "df.JobRoleCluster.value_counts()"
   ]
  },
  {
   "cell_type": "code",
   "execution_count": 36,
   "metadata": {},
   "outputs": [
    {
     "data": {
      "text/plain": [
       "Cluster 2    742\n",
       "Cluster 1    624\n",
       "Cluster 3     85\n",
       "Name: StockOptionLevelCluster, dtype: int64"
      ]
     },
     "execution_count": 36,
     "metadata": {},
     "output_type": "execute_result"
    }
   ],
   "source": [
    "df['StockOptionLevelCluster'] = df.StockOptionLevel\n",
    "\n",
    "df.StockOptionLevelCluster = df.StockOptionLevelCluster.apply(lambda value : value.replace('zero','Cluster 1'))\n",
    "\n",
    "df.StockOptionLevelCluster = df.StockOptionLevelCluster.apply(lambda value : value.replace('one','Cluster 2'))\n",
    "df.StockOptionLevelCluster = df.StockOptionLevelCluster.apply(lambda value : value.replace('two','Cluster 2'))\n",
    "\n",
    "df.StockOptionLevelCluster = df.StockOptionLevelCluster.apply(lambda value : value.replace('three','Cluster 3'))\n",
    "\n",
    "\n",
    "df.StockOptionLevelCluster.value_counts()"
   ]
  },
  {
   "cell_type": "code",
   "execution_count": 38,
   "metadata": {},
   "outputs": [
    {
     "data": {
      "text/plain": [
       "Cluster 3    692\n",
       "Cluster 1    543\n",
       "Cluster 2    216\n",
       "Name: JobLevelCluster, dtype: int64"
      ]
     },
     "execution_count": 38,
     "metadata": {},
     "output_type": "execute_result"
    }
   ],
   "source": [
    "df['JobLevelCluster'] = df.JobLevel\n",
    "\n",
    "df.JobLevelCluster = df.JobLevelCluster.apply(lambda value : value.replace('one','Cluster 1'))\n",
    "\n",
    "df.JobLevelCluster = df.JobLevelCluster.apply(lambda value : value.replace('three','Cluster 2'))\n",
    "\n",
    "df.JobLevelCluster = df.JobLevelCluster.apply(lambda value : value.replace('two','Cluster 3'))\n",
    "df.JobLevelCluster = df.JobLevelCluster.apply(lambda value : value.replace('four','Cluster 3'))\n",
    "df.JobLevelCluster = df.JobLevelCluster.apply(lambda value : value.replace('five','Cluster 3'))\n",
    "\n",
    "df['JobLevelCluster'].value_counts()"
   ]
  },
  {
   "cell_type": "code",
   "execution_count": 40,
   "metadata": {},
   "outputs": [
    {
     "data": {
      "text/plain": [
       "Cluster 2    712\n",
       "Cluster 1    454\n",
       "Cluster 3    285\n",
       "Name: JobSatisfactionCluster, dtype: int64"
      ]
     },
     "execution_count": 40,
     "metadata": {},
     "output_type": "execute_result"
    }
   ],
   "source": [
    "df['JobSatisfactionCluster'] = df.JobSatisfaction\n",
    "\n",
    "df.JobSatisfactionCluster = df.JobSatisfactionCluster.apply(lambda value : value.replace('very_high','Cluster 1'))\n",
    "\n",
    "df.JobSatisfactionCluster = df.JobSatisfactionCluster.apply(lambda value : value.replace('high','Cluster 2'))\n",
    "df.JobSatisfactionCluster = df.JobSatisfactionCluster.apply(lambda value : value.replace('meduim','Cluster 2'))\n",
    "\n",
    "df.JobSatisfactionCluster = df.JobSatisfactionCluster.apply(lambda value : value.replace('low','Cluster 3'))\n",
    "\n",
    "\n",
    "df['JobSatisfactionCluster'].value_counts()"
   ]
  },
  {
   "cell_type": "code",
   "execution_count": 42,
   "metadata": {},
   "outputs": [
    {
     "data": {
      "text/plain": [
       "Cluster 2    1012\n",
       "Cluster 1     439\n",
       "Name: EnvironmentSatisfactionCluster, dtype: int64"
      ]
     },
     "execution_count": 42,
     "metadata": {},
     "output_type": "execute_result"
    }
   ],
   "source": [
    "df['EnvironmentSatisfactionCluster'] = df.EnvironmentSatisfaction\n",
    "\n",
    "df.EnvironmentSatisfactionCluster = df.EnvironmentSatisfactionCluster.apply(lambda value : value.replace('very_high','Cluster 1'))\n",
    "\n",
    "df.EnvironmentSatisfactionCluster = df.EnvironmentSatisfactionCluster.apply(lambda value : value.replace('high','Cluster 2'))\n",
    "df.EnvironmentSatisfactionCluster = df.EnvironmentSatisfactionCluster.apply(lambda value : value.replace('meduim','Cluster 2'))\n",
    "df.EnvironmentSatisfactionCluster = df.EnvironmentSatisfactionCluster.apply(lambda value : value.replace('low','Cluster 2'))\n",
    "\n",
    "\n",
    "df['EnvironmentSatisfactionCluster'].value_counts()"
   ]
  },
  {
   "cell_type": "code",
   "execution_count": 44,
   "metadata": {},
   "outputs": [
    {
     "data": {
      "text/plain": [
       "Cluster 1    1137\n",
       "Cluster 2     287\n",
       "Cluster 3      27\n",
       "Name: EducationFieldCluster, dtype: int64"
      ]
     },
     "execution_count": 44,
     "metadata": {},
     "output_type": "execute_result"
    }
   ],
   "source": [
    "df['EducationFieldCluster'] = df.EducationField\n",
    "\n",
    "df.EducationFieldCluster = df.EducationFieldCluster.apply(lambda value : value.replace('Life Sciences','Cluster 1'))\n",
    "df.EducationFieldCluster = df.EducationFieldCluster.apply(lambda value : value.replace('Medical','Cluster 1'))\n",
    "df.EducationFieldCluster = df.EducationFieldCluster.apply(lambda value : value.replace('Other','Cluster 1'))\n",
    "\n",
    "df.EducationFieldCluster = df.EducationFieldCluster.apply(lambda value : value.replace('Marketing','Cluster 2'))\n",
    "df.EducationFieldCluster = df.EducationFieldCluster.apply(lambda value : value.replace('Technical Degree','Cluster 2'))\n",
    "\n",
    "df.EducationFieldCluster = df.EducationFieldCluster.apply(lambda value : value.replace('Human Resources','Cluster 3'))\n",
    "\n",
    "\n",
    "df['EducationFieldCluster'].value_counts()"
   ]
  },
  {
   "cell_type": "code",
   "execution_count": 46,
   "metadata": {},
   "outputs": [
    {
     "data": {
      "text/plain": [
       "Cluster 1    1178\n",
       "Cluster 2     273\n",
       "Name: RelationshipSatisfactionCluster, dtype: int64"
      ]
     },
     "execution_count": 46,
     "metadata": {},
     "output_type": "execute_result"
    }
   ],
   "source": [
    "df['RelationshipSatisfactionCluster'] = df.RelationshipSatisfaction\n",
    "\n",
    "df.RelationshipSatisfactionCluster = df.RelationshipSatisfactionCluster.apply(lambda value : value.replace('very_high','Cluster 1'))\n",
    "df.RelationshipSatisfactionCluster = df.RelationshipSatisfactionCluster.apply(lambda value : value.replace('high','Cluster 1'))\n",
    "df.RelationshipSatisfactionCluster = df.RelationshipSatisfactionCluster.apply(lambda value : value.replace('meduim','Cluster 1'))\n",
    "\n",
    "df.RelationshipSatisfactionCluster = df.RelationshipSatisfactionCluster.apply(lambda value : value.replace('low','Cluster 2'))\n",
    "\n",
    "\n",
    "df['RelationshipSatisfactionCluster'].value_counts()"
   ]
  },
  {
   "cell_type": "code",
   "execution_count": 48,
   "metadata": {},
   "outputs": [
    {
     "data": {
      "text/plain": [
       "Cluster 1    986\n",
       "Cluster 2    465\n",
       "Name: MaritalStatusCluster, dtype: int64"
      ]
     },
     "execution_count": 48,
     "metadata": {},
     "output_type": "execute_result"
    }
   ],
   "source": [
    "df['MaritalStatusCluster'] = df.MaritalStatus\n",
    "\n",
    "df.MaritalStatusCluster = df.MaritalStatusCluster.apply(lambda value : value.replace('Married','Cluster 1'))\n",
    "df.MaritalStatusCluster = df.MaritalStatusCluster.apply(lambda value : value.replace('Divorced','Cluster 1'))\n",
    "\n",
    "df.MaritalStatusCluster = df.MaritalStatusCluster.apply(lambda value : value.replace('Single','Cluster 2'))\n",
    "\n",
    "\n",
    "\n",
    "df['MaritalStatusCluster'].value_counts()"
   ]
  },
  {
   "cell_type": "code",
   "execution_count": 50,
   "metadata": {},
   "outputs": [
    {
     "data": {
      "text/plain": [
       "Cluster 1    1372\n",
       "Cluster 2      79\n",
       "Name: WorkLifeBalanceCluster, dtype: int64"
      ]
     },
     "execution_count": 50,
     "metadata": {},
     "output_type": "execute_result"
    }
   ],
   "source": [
    "df['WorkLifeBalanceCluster'] = df.WorkLifeBalance\n",
    "\n",
    "df.WorkLifeBalanceCluster = df.WorkLifeBalanceCluster.apply(lambda value : value.replace('best','Cluster 1'))\n",
    "df.WorkLifeBalanceCluster = df.WorkLifeBalanceCluster.apply(lambda value : value.replace('better','Cluster 1'))\n",
    "df.WorkLifeBalanceCluster = df.WorkLifeBalanceCluster.apply(lambda value : value.replace('good','Cluster 1'))\n",
    "\n",
    "df.WorkLifeBalanceCluster = df.WorkLifeBalanceCluster.apply(lambda value : value.replace('bad','Cluster 2'))\n",
    "\n",
    "df['WorkLifeBalanceCluster'].value_counts()"
   ]
  },
  {
   "cell_type": "code",
   "execution_count": 52,
   "metadata": {},
   "outputs": [
    {
     "data": {
      "text/plain": [
       "Cluster 1    1002\n",
       "Cluster 2     368\n",
       "Cluster 3      81\n",
       "Name: JobInvolvementCluster, dtype: int64"
      ]
     },
     "execution_count": 52,
     "metadata": {},
     "output_type": "execute_result"
    }
   ],
   "source": [
    "df['JobInvolvementCluster'] = df.JobInvolvement\n",
    "\n",
    "df.JobInvolvementCluster = df.JobInvolvementCluster.apply(lambda value : value.replace('very_high','Cluster 1'))\n",
    "df.JobInvolvementCluster = df.JobInvolvementCluster.apply(lambda value : value.replace('high','Cluster 1'))\n",
    "\n",
    "df.JobInvolvementCluster = df.JobInvolvementCluster.apply(lambda value : value.replace('meduim','Cluster 2'))\n",
    "\n",
    "df.JobInvolvementCluster = df.JobInvolvementCluster.apply(lambda value : value.replace('low','Cluster 3'))\n",
    "\n",
    "df['JobInvolvementCluster'].value_counts()"
   ]
  },
  {
   "cell_type": "markdown",
   "metadata": {},
   "source": [
    "## Dropping Parent Columns of ‘Value Cluster’ Features"
   ]
  },
  {
   "cell_type": "code",
   "execution_count": 53,
   "metadata": {},
   "outputs": [],
   "source": [
    "df = df.drop(columns=[ 'EducationField','EnvironmentSatisfaction','JobInvolvement',\n",
    "                  'JobLevel', 'JobRole', 'JobSatisfaction', \n",
    "                  'MaritalStatus','RelationshipSatisfaction','StockOptionLevel', \n",
    "                  'WorkLifeBalance','EducationField'])"
   ]
  },
  {
   "cell_type": "code",
   "execution_count": 54,
   "metadata": {},
   "outputs": [
    {
     "data": {
      "text/plain": [
       "(1451, 31)"
      ]
     },
     "execution_count": 54,
     "metadata": {},
     "output_type": "execute_result"
    }
   ],
   "source": [
    "df.shape"
   ]
  },
  {
   "cell_type": "code",
   "execution_count": 55,
   "metadata": {},
   "outputs": [
    {
     "data": {
      "text/plain": [
       "Index(['Age', 'Attrition', 'BusinessTravel', 'DailyRate', 'Department',\n",
       "       'DistanceFromHome', 'Education', 'Gender', 'HourlyRate',\n",
       "       'MonthlyIncome', 'MonthlyRate', 'NumCompaniesWorked', 'OverTime',\n",
       "       'PercentSalaryHike', 'PerformanceRating', 'TotalWorkingYears',\n",
       "       'TrainingTimesLastYear', 'YearsAtCompany', 'YearsInCurrentRole',\n",
       "       'YearsSinceLastPromotion', 'YearsWithCurrManager', 'JobRoleCluster',\n",
       "       'StockOptionLevelCluster', 'JobLevelCluster', 'JobSatisfactionCluster',\n",
       "       'EnvironmentSatisfactionCluster', 'EducationFieldCluster',\n",
       "       'RelationshipSatisfactionCluster', 'MaritalStatusCluster',\n",
       "       'WorkLifeBalanceCluster', 'JobInvolvementCluster'],\n",
       "      dtype='object')"
      ]
     },
     "execution_count": 55,
     "metadata": {},
     "output_type": "execute_result"
    }
   ],
   "source": [
    "df.columns"
   ]
  },
  {
   "cell_type": "markdown",
   "metadata": {},
   "source": [
    "# Create CSV with Prepared And Feature Engineered Data"
   ]
  },
  {
   "cell_type": "code",
   "execution_count": 56,
   "metadata": {},
   "outputs": [],
   "source": [
    "#df.to_csv('employee_churn_catagorical_clusters.csv',index=False)"
   ]
  },
  {
   "cell_type": "markdown",
   "metadata": {},
   "source": [
    "# Explore Data, Build and Evaluate Models on Feature Engineered Data in DataRobot\n",
    "* Entered CSV into DataRobot\n",
    "* Explored how each feature is related to attrition\n",
    "* Ran initial models\n",
    "* Created additional feature lists to model on based on feature impact and feature collinearity\n",
    "* Ran additional models using new feature lists\n",
    "* Trained models on trian data \n",
    "* Evaluated Models on train and validate data \n",
    "* Used Max ROI as the key evaluation metric\n",
    "* The sample size of the training and validate data was 1161  "
   ]
  },
  {
   "cell_type": "markdown",
   "metadata": {},
   "source": [
    "# Choosing a Final Model\n",
    "* Compared the of the top preforming model containing ‘value clustered’ features and the top model containing no ‘value clustered’ features\n",
    "* Comparison was on training data using Max ROI as the key evaluation metric\n",
    "\n",
    "## Top Model\n",
    "\n",
    "* Light Gradient Boosting on ElasticNet Predictions\n",
    "* Trained with ‘value clustered’ features\n",
    "* Top three Impactful features include: Overtime, JobLevelCluster, and NumCompaniesWorked\n",
    "* Max ROI of 428K on the training data\n",
    "* Sample size 1161"
   ]
  },
  {
   "cell_type": "markdown",
   "metadata": {},
   "source": [
    "# Evaluating Final Model\n",
    "\n",
    "* Unlocked holdout data\n"
   ]
  },
  {
   "cell_type": "code",
   "execution_count": null,
   "metadata": {},
   "outputs": [],
   "source": []
  }
 ],
 "metadata": {
  "kernelspec": {
   "display_name": "Python 3",
   "language": "python",
   "name": "python3"
  },
  "language_info": {
   "codemirror_mode": {
    "name": "ipython",
    "version": 3
   },
   "file_extension": ".py",
   "mimetype": "text/x-python",
   "name": "python",
   "nbconvert_exporter": "python",
   "pygments_lexer": "ipython3",
   "version": "3.7.4"
  }
 },
 "nbformat": 4,
 "nbformat_minor": 2
}
